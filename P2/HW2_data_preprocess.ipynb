{
 "cells": [
  {
   "cell_type": "code",
   "execution_count": 15,
   "id": "87f599f5",
   "metadata": {},
   "outputs": [],
   "source": [
    "import sys\n",
    "import codecs\n",
    "import tqdm\n",
    "import json\n",
    "!pip install -r requirements.txt"
   ]
  },
  {
   "cell_type": "markdown",
   "id": "9f6ceba1",
   "metadata": {},
   "source": [
    "# برای ران کردن این نوت بوک حتما باید فایل را دانلود کرده باشید و نوتبوک را از داخل آن ران کنید.\n",
    "## اطمینان حاصل کنید که برای ران کردن این نوتبوک نوتبوک از داخل پوشه که لینک آن نسخه ارسال شده قرار داده شده بوده است اجرا می‌کنید.\n",
    "<a href=\"https://drive.google.com/file/d/1e7ilIJhNl2ZJea0oWtn6ULPgYfbfTjyH/view?usp=sharing\">link</a>\n",
    "\n"
   ]
  },
  {
   "cell_type": "code",
   "execution_count": 9,
   "id": "80d5daeb",
   "metadata": {},
   "outputs": [
    {
     "name": "stdout",
     "output_type": "stream",
     "text": [
      "centries: 3\n",
      "roodaki - \n",
      "centries: 4\n",
      "abusaeed - daghighi - onsori - ayyooghi - ferdousi - kesayee - \n",
      "centries: 5\n",
      "rooni - osmani - azraghi - asadi - amir - iranshan - babataher - abdullah - khayyam - nashenas - sanaee - asjadi - amagh - keikavus - ghazzali - asad - farrokhi - ghatran - masood - manoochehri - naserkhosro - hojviri - \n",
      "centries: 6\n",
      "akhsikati - saber - anvari - ouhad - babaafzal - jamal - hamid - khaghani - hasan - zahir - abbadi - gilani - jabali - mokhtari - attar - eynolghozat - falaki - beylaghani - mmon - mahsati - meybodi - monshi - nezami - aroozi - vatvat - \n",
      "centries: 7\n",
      "emami - khosro - hoseyni - nezari - khajenasir - varavini - saadi - valad - eraghi - kamal - hamgar - moulavi - daye - homam - \n",
      "centries: 8\n",
      "ebneyamin - ouhadi - jalal - jahan - hafez - heydar - khajoo - salman - seyf - shahnematollah - maghrebi - shabestari - obeyd - ghasem - khojandi - koosaj - nasimi - \n",
      "centries: 9\n",
      "ebnehesam - asiri - shahi - fani - jami - hoseyn - khiali - jarooni - \n",
      "centries: 10\n",
      "ahli - faghani - razi - shahedi - bahaee - orfi - fozooli - mohtasham - naziri - vahshi - helali - \n",
      "centries: 11\n",
      "abolhasan - shahrestani - bidel - jooya - bahoo - salim - saeb - feyz - ghodsi - kalim - masih - nouee - vaez - \n",
      "centries: 12\n",
      "azar - hazin - saeeda - tabib - ghassab - moshtagh - hatef - \n",
      "centries: 13\n",
      "elhami - ashofte - asrar - khaled - rashhe - rhedayat - sahab - shater - samet - safa - omman - ghaleb - ghobar - fayez - forooghi - ghaani - ghaemmagham - mohit - naraghi - aghakhan - neshat - nayyer - vahdat - \n",
      "centries: 14\n",
      "adib - afsar - iqbal - iraj - parvin - khalili - rahi - shahriar - toghrol - aref - moftagher - yazdi - bahar - eshghi - \n"
     ]
    }
   ],
   "source": [
    "source_dir = lambda name: f\"./data/{name}/{name}.txt\"\n",
    "all_poets_centry = json.load(open(\"./data/all_poets_centries.json\",\"r\",encoding = \"utf-8\"))\n",
    "i = 0\n",
    "centries_entry = {\n",
    "3  : \"قرن سوم\",\n",
    "4  : \"قرن چهارم\",\n",
    "5  : \"قرن پنجم\",\n",
    "6  : \"قرن ششم\",\n",
    "7  : \"قرن هفتم\",\n",
    "8  : \"قرن هشتم\",\n",
    "9  : \"قرن نهم\",\n",
    "10 : \"قرن دهم\",\n",
    "11 : \"قرن یازدهم\",\n",
    "12 : \"قرن دوازدهم\",\n",
    "13 : \"قرن سیزدهم\",\n",
    "14 : \"قرن چهاردهم\"\n",
    "}\n",
    "for c in centries_entry:\n",
    "    print(f\"centries: {c}\")\n",
    "    for name in all_poets_centry[centries_entry[c]]:\n",
    "        print(name[\"author\"] , end = \" - \")\n",
    "        i+=1\n",
    "    print()\n"
   ]
  },
  {
   "cell_type": "code",
   "execution_count": 14,
   "id": "a544efad",
   "metadata": {},
   "outputs": [
    {
     "name": "stdout",
     "output_type": "stream",
     "text": [
      "centries: 3\n",
      "roodaki - \n",
      "centries: 4\n",
      "abusaeed - daghighi - onsori - ayyooghi - ferdousi - kesayee - \n",
      "centries: 5\n",
      "rooni - osmani - azraghi - asadi - amir - iranshan - babataher - abdullah - khayyam - nashenas - sanaee - asjadi - amagh - keikavus - ghazzali - asad - farrokhi - ghatran - masood - manoochehri - naserkhosro - hojviri - \n",
      "centries: 6\n",
      "akhsikati - saber - anvari - ouhad - babaafzal - jamal - hamid - khaghani - hasan - zahir - abbadi - gilani - jabali - mokhtari - attar - eynolghozat - falaki - beylaghani - mmon - mahsati - meybodi - monshi - nezami - aroozi - vatvat - \n",
      "centries: 7\n",
      "emami - khosro - hoseyni - nezari - khajenasir - varavini - saadi - valad - eraghi - kamal - hamgar - moulavi - daye - homam - \n",
      "centries: 8\n",
      "ebneyamin - ouhadi - jalal - jahan - hafez - heydar - khajoo - salman - seyf - shahnematollah - maghrebi - shabestari - obeyd - ghasem - khojandi - koosaj - nasimi - \n",
      "centries: 9\n",
      "ebnehesam - asiri - shahi - fani - jami - hoseyn - khiali - jarooni - \n",
      "centries: 10\n",
      "ahli - faghani - razi - shahedi - bahaee - orfi - fozooli - mohtasham - naziri - vahshi - helali - \n",
      "centries: 11\n",
      "abolhasan - shahrestani - bidel - jooya - bahoo - salim - saeb - feyz - ghodsi - kalim - masih - nouee - vaez - \n",
      "centries: 12\n",
      "azar - hazin - saeeda - tabib - ghassab - moshtagh - hatef - \n",
      "centries: 13\n",
      "elhami - ashofte - asrar - khaled - rashhe - rhedayat - sahab - shater - samet - safa - omman - ghaleb - ghobar - fayez - forooghi - ghaani - ghaemmagham - mohit - naraghi - aghakhan - neshat - nayyer - vahdat - \n",
      "centries: 14\n",
      "adib - afsar - iqbal - iraj - parvin - khalili - rahi - shahriar - toghrol - aref - moftagher - yazdi - bahar - eshghi - \n"
     ]
    }
   ],
   "source": [
    "for c in centries_entry:\n",
    "    file_name = f\"century_data/{c}.txt\"\n",
    "    print(f\"centries: {c}\")\n",
    "    cen = \"\"\n",
    "    for name in all_poets_centry[centries_entry[c]]:\n",
    "        print(name[\"author\"] , end = \" - \")\n",
    "        try:\n",
    "            cen+= \"\".join(open(source_dir(name[\"author\"]),\"r\",encoding = \"utf-8\").readlines())\n",
    "        except:\n",
    "            pass\n",
    "        i+=1\n",
    "    f = open(file=file_name,mode=\"w\",encoding=\"utf-8\")\n",
    "    f.write(cen)\n",
    "    f.close()\n",
    "    print()"
   ]
  }
 ],
 "metadata": {
  "kernelspec": {
   "display_name": "Python 3 (ipykernel)",
   "language": "python",
   "name": "python3"
  },
  "language_info": {
   "codemirror_mode": {
    "name": "ipython",
    "version": 3
   },
   "file_extension": ".py",
   "mimetype": "text/x-python",
   "name": "python",
   "nbconvert_exporter": "python",
   "pygments_lexer": "ipython3",
   "version": "3.9.7"
  }
 },
 "nbformat": 4,
 "nbformat_minor": 5
}
