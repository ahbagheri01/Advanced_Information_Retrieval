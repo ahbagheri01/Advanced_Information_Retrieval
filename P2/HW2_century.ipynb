{
 "cells": [
  {
   "cell_type": "code",
   "execution_count": null,
   "id": "06a182b1",
   "metadata": {},
   "outputs": [],
   "source": [
    "!pip install -r requirements.txt"
   ]
  },
  {
   "cell_type": "markdown",
   "id": "03ad0c69",
   "metadata": {},
   "source": [
    "# برای ران کردن این نوت بوک حتما باید فایل را دانلود کرده باشید و نوتبوک را از داخل آن ران کنید.\n",
    "## اطمینان حاصل کنید که برای ران کردن این نوتبوک نوتبوک از داخل پوشه که لینک آن نسخه ارسال شده قرار داده شده بوده است اجرا می‌کنید.\n",
    "<a href=\"https://drive.google.com/file/d/1e7ilIJhNl2ZJea0oWtn6ULPgYfbfTjyH/view?usp=sharing\">link</a>\n",
    "\n"
   ]
  },
  {
   "cell_type": "code",
   "execution_count": 2,
   "id": "87f599f5",
   "metadata": {},
   "outputs": [],
   "source": [
    "import codecs\n",
    "import seaborn as sb\n",
    "import tqdm\n",
    "import json\n",
    "from __future__ import unicode_literals\n",
    "from hazm import *\n",
    "from nltk import FreqDist\n",
    "import pandas as pd\n",
    "import nltk\n",
    "from matplotlib import pyplot as plt\n",
    "import numpy as np\n",
    "normalizer = Normalizer()\n",
    "stemmer = Stemmer()\n",
    "lemmatizer = Lemmatizer()\n",
    "\n",
    "def get_analysis(token, mode = 0):\n",
    "    if mode == 0:\n",
    "        return lemmatizer.lemmatize(token)\n",
    "    if mode == 1 and mode == 10:\n",
    "        return stemmer.stem(token)\n",
    "    if mode == 2:\n",
    "        return normalizer.normalize(token)\n",
    "    if mode == 3:\n",
    "        return sent_tokenize(token)\n",
    "    if mode == 4:\n",
    "        return word_tokenize(token)\n",
    "def flatten(txt,mode = False , f = None):\n",
    "    s = []\n",
    "    if not mode:\n",
    "        for sen in txt:\n",
    "            for x in sen:\n",
    "                w = x.strip()\n",
    "                s.append(w)\n",
    "    else:\n",
    "        for sen in txt:\n",
    "            for x in sen:\n",
    "                w = x.strip()\n",
    "                if f(w):\n",
    "                    s.append(w)\n",
    "    return s\n",
    "def merge_stop_words(stopwL):\n",
    "    res = []\n",
    "    for pwl in stopwL:\n",
    "        for wl in pwl:\n",
    "            if wl.strip() not in res:\n",
    "                res.append(wl.strip())\n",
    "    return res\n",
    "\n",
    "stopw = codecs.open('./module_data/stopwords.txt','r','utf-8').readlines()\n",
    "my_own_stopw = codecs.open('./module_data/my_stopwords.txt','r','utf-8').readlines()\n",
    "\n",
    "stopw = merge_stop_words([stopw,my_own_stopw])\n",
    "stopwords = [get_analysis(x.strip()) for x in stopw ]\n",
    "stopwords_dict = {x:True for x in stopwords}\n",
    "source_dir = lambda name: f\"./data/{name}/{name}.txt\"\n",
    "centry_dir = lambda num: f\"./century_data/{num}.txt\"\n",
    "all_poets_centry = json.load(open(\"./data/all_poets_centries.json\",\"r\",encoding = \"utf-8\"))\n",
    "tagger = POSTagger(model='./module_data/resources/postagger.model')"
   ]
  },
  {
   "cell_type": "code",
   "execution_count": 3,
   "id": "f0a75155",
   "metadata": {},
   "outputs": [],
   "source": [
    "centries = [3,5,6,7,8,9,10,11,12,13,14]\n",
    "txt_data = {}\n",
    "for i in centries:\n",
    "    txt =  open(centry_dir(i),\"r\",encoding=\"utf-8\").readlines()\n",
    "    txt_data[i] = [s.strip() for s in txt]\n",
    "\n"
   ]
  },
  {
   "cell_type": "code",
   "execution_count": 4,
   "id": "6268b09f",
   "metadata": {},
   "outputs": [
    {
     "name": "stdout",
     "output_type": "stream",
     "text": [
      "3\n"
     ]
    },
    {
     "name": "stderr",
     "output_type": "stream",
     "text": [
      "100%|██████████| 2094/2094 [00:00<00:00, 20994.23it/s]\n"
     ]
    },
    {
     "name": "stdout",
     "output_type": "stream",
     "text": [
      "5\n"
     ]
    },
    {
     "name": "stderr",
     "output_type": "stream",
     "text": [
      "100%|██████████| 289116/289116 [00:15<00:00, 19130.13it/s]\n"
     ]
    },
    {
     "name": "stdout",
     "output_type": "stream",
     "text": [
      "6\n"
     ]
    },
    {
     "name": "stderr",
     "output_type": "stream",
     "text": [
      "100%|██████████| 465129/465129 [00:29<00:00, 15670.16it/s]\n"
     ]
    },
    {
     "name": "stdout",
     "output_type": "stream",
     "text": [
      "7\n"
     ]
    },
    {
     "name": "stderr",
     "output_type": "stream",
     "text": [
      "100%|██████████| 312617/312617 [00:18<00:00, 17016.08it/s]\n"
     ]
    },
    {
     "name": "stdout",
     "output_type": "stream",
     "text": [
      "8\n"
     ]
    },
    {
     "name": "stderr",
     "output_type": "stream",
     "text": [
      "100%|██████████| 286641/286641 [00:16<00:00, 16995.36it/s]\n"
     ]
    },
    {
     "name": "stdout",
     "output_type": "stream",
     "text": [
      "9\n"
     ]
    },
    {
     "name": "stderr",
     "output_type": "stream",
     "text": [
      "100%|██████████| 125581/125581 [00:06<00:00, 18678.47it/s]\n"
     ]
    },
    {
     "name": "stdout",
     "output_type": "stream",
     "text": [
      "10\n"
     ]
    },
    {
     "name": "stderr",
     "output_type": "stream",
     "text": [
      "100%|██████████| 159995/159995 [00:09<00:00, 17381.67it/s]\n"
     ]
    },
    {
     "name": "stdout",
     "output_type": "stream",
     "text": [
      "11\n"
     ]
    },
    {
     "name": "stderr",
     "output_type": "stream",
     "text": [
      "100%|██████████| 357600/357600 [00:22<00:00, 16206.30it/s]\n"
     ]
    },
    {
     "name": "stdout",
     "output_type": "stream",
     "text": [
      "12\n"
     ]
    },
    {
     "name": "stderr",
     "output_type": "stream",
     "text": [
      "100%|██████████| 79073/79073 [00:05<00:00, 14785.52it/s]\n"
     ]
    },
    {
     "name": "stdout",
     "output_type": "stream",
     "text": [
      "13\n"
     ]
    },
    {
     "name": "stderr",
     "output_type": "stream",
     "text": [
      "100%|██████████| 252964/252964 [00:14<00:00, 17417.23it/s]\n"
     ]
    },
    {
     "name": "stdout",
     "output_type": "stream",
     "text": [
      "14\n"
     ]
    },
    {
     "name": "stderr",
     "output_type": "stream",
     "text": [
      "100%|██████████| 147474/147474 [00:07<00:00, 19607.68it/s]\n"
     ]
    }
   ],
   "source": [
    "normalizer = Normalizer()\n",
    "normalized = {}\n",
    "for key in txt_data:\n",
    "    print(key)\n",
    "    normalized[key] = [get_analysis(txt.strip(),2)  for txt in tqdm.tqdm(txt_data[key])]"
   ]
  },
  {
   "cell_type": "code",
   "execution_count": 5,
   "id": "675bc89d",
   "metadata": {},
   "outputs": [
    {
     "name": "stderr",
     "output_type": "stream",
     "text": [
      "100%|██████████| 2094/2094 [00:00<00:00, 6377.98it/s]\n",
      "100%|██████████| 289116/289116 [00:02<00:00, 122592.67it/s]\n",
      "100%|██████████| 465129/465129 [00:04<00:00, 115227.15it/s]\n",
      "100%|██████████| 312617/312617 [00:02<00:00, 131184.20it/s]\n",
      "100%|██████████| 286641/286641 [00:02<00:00, 138650.38it/s]\n",
      "100%|██████████| 125581/125581 [00:01<00:00, 114578.64it/s]\n",
      "100%|██████████| 159995/159995 [00:01<00:00, 152167.81it/s]\n",
      "100%|██████████| 357600/357600 [00:02<00:00, 124380.17it/s]\n",
      "100%|██████████| 79073/79073 [00:00<00:00, 115442.68it/s]\n",
      "100%|██████████| 252964/252964 [00:01<00:00, 134348.18it/s]\n",
      "100%|██████████| 147474/147474 [00:01<00:00, 115082.28it/s]\n"
     ]
    }
   ],
   "source": [
    "sentence_tokenized = {}\n",
    "for key in normalized:\n",
    "    sentence_tokenized[key] = [get_analysis(sen,3) for sen in tqdm.tqdm(normalized[key])]\n",
    "    sentence_tokenized[key] = flatten(sentence_tokenized[key])"
   ]
  },
  {
   "cell_type": "code",
   "execution_count": 6,
   "id": "423ae79e",
   "metadata": {},
   "outputs": [
    {
     "name": "stderr",
     "output_type": "stream",
     "text": [
      "100%|██████████| 2140/2140 [00:00<00:00, 12488.21it/s]\n",
      "100%|██████████| 310544/310544 [00:05<00:00, 57608.71it/s]\n",
      "100%|██████████| 521646/521646 [00:09<00:00, 53146.40it/s]\n",
      "100%|██████████| 319325/319325 [00:04<00:00, 64799.66it/s]\n",
      "100%|██████████| 288668/288668 [00:03<00:00, 75255.79it/s]\n",
      "100%|██████████| 125962/125962 [00:01<00:00, 91757.17it/s]\n",
      "100%|██████████| 165771/165771 [00:02<00:00, 78517.94it/s]\n",
      "100%|██████████| 358097/358097 [00:05<00:00, 68677.70it/s]\n",
      "100%|██████████| 79318/79318 [00:00<00:00, 79871.88it/s]\n",
      "100%|██████████| 258336/258336 [00:04<00:00, 58594.67it/s]\n",
      "100%|██████████| 148116/148116 [00:01<00:00, 84311.85it/s]\n"
     ]
    }
   ],
   "source": [
    "word_tokenized = {}\n",
    "for key in sentence_tokenized:\n",
    "    word_tokenized[key] = [get_analysis(sen,4) for sen in tqdm.tqdm(sentence_tokenized[key])]\n"
   ]
  },
  {
   "cell_type": "code",
   "execution_count": 7,
   "id": "0321af71",
   "metadata": {},
   "outputs": [
    {
     "name": "stderr",
     "output_type": "stream",
     "text": [
      "100%|██████████| 2140/2140 [00:00<00:00, 7624.30it/s]\n",
      "100%|██████████| 310544/310544 [01:07<00:00, 4603.19it/s]\n",
      "100%|██████████| 521646/521646 [02:02<00:00, 4243.55it/s]\n",
      "100%|██████████| 319325/319325 [00:55<00:00, 5751.69it/s]\n",
      "100%|██████████| 288668/288668 [00:41<00:00, 6933.88it/s]\n",
      "100%|██████████| 125962/125962 [00:19<00:00, 6535.10it/s]\n",
      "100%|██████████| 165771/165771 [00:27<00:00, 5960.76it/s]\n",
      "100%|██████████| 358097/358097 [01:04<00:00, 5586.01it/s]\n",
      "100%|██████████| 79318/79318 [00:13<00:00, 5848.76it/s]\n",
      "100%|██████████| 258336/258336 [00:52<00:00, 4922.70it/s]\n",
      "100%|██████████| 148116/148116 [00:22<00:00, 6576.15it/s]\n"
     ]
    }
   ],
   "source": [
    "lemmatized_words = {}\n",
    "for key in word_tokenized:\n",
    "    lemmatized_words[key] = [[get_analysis(w.strip()) for w in sen if tagger.tag([w.strip()])[0][1] not in [\"V\",\"P\"]] for sen in tqdm.tqdm(word_tokenized[key])]\n",
    "    lemmatized_words[key] = flatten(lemmatized_words[key])"
   ]
  },
  {
   "cell_type": "code",
   "execution_count": 8,
   "id": "2c1b5d6a",
   "metadata": {},
   "outputs": [
    {
     "name": "stderr",
     "output_type": "stream",
     "text": [
      "100%|██████████| 11285/11285 [00:00<00:00, 1146431.58it/s]\n",
      "100%|██████████| 2459491/2459491 [00:01<00:00, 1443000.45it/s]\n",
      "100%|██████████| 4613399/4613399 [00:03<00:00, 1537566.15it/s]\n",
      "100%|██████████| 1999864/1999864 [00:01<00:00, 1734827.68it/s]\n",
      "100%|██████████| 1557601/1557601 [00:00<00:00, 1558777.99it/s]\n",
      "100%|██████████| 670990/670990 [00:00<00:00, 1312198.32it/s]\n",
      "100%|██████████| 1010365/1010365 [00:00<00:00, 1249131.33it/s]\n",
      "100%|██████████| 1990893/1990893 [00:01<00:00, 1563394.20it/s]\n",
      "100%|██████████| 448750/448750 [00:00<00:00, 1416098.01it/s]\n",
      "100%|██████████| 1689490/1689490 [00:01<00:00, 1417804.41it/s]\n",
      "100%|██████████| 777453/777453 [00:00<00:00, 1606091.18it/s]\n"
     ]
    }
   ],
   "source": [
    "f = lambda x : not stopwords_dict.get(x,False)\n",
    "words = {}\n",
    "for key in lemmatized_words:\n",
    "    words[key] = [w.strip() for w in tqdm.tqdm(lemmatized_words[key])  if f(w.strip())]"
   ]
  },
  {
   "cell_type": "code",
   "execution_count": 9,
   "id": "20fbc2f8",
   "metadata": {},
   "outputs": [
    {
     "name": "stdout",
     "output_type": "stream",
     "text": [
      "683\n"
     ]
    }
   ],
   "source": [
    "dataframe = {}\n",
    "freq_most = 250\n",
    "for key in lemmatized_words:\n",
    "    dataframe[key] = FreqDist(words[key]).most_common(freq_most)      \n",
    "freq_analysis = pd.DataFrame(dataframe)\n",
    "unique_most_words = {}\n",
    "for col in dataframe:\n",
    "    for w in dataframe[col]:\n",
    "        w1,w2 = w\n",
    "        size = unique_most_words.get(w1,0)\n",
    "        unique_most_words[w1] = size + int(w2)\n",
    "data = pd.DataFrame({\"word\":[key for key in unique_most_words],\"freq\":[unique_most_words[key] for key in unique_most_words]})\n",
    "data = data.sort_values(by=['freq'],ascending=False)\n",
    "print(len(data))"
   ]
  },
  {
   "cell_type": "code",
   "execution_count": 10,
   "id": "67804794",
   "metadata": {},
   "outputs": [
    {
     "data": {
      "text/html": [
       "<div>\n",
       "<style scoped>\n",
       "    .dataframe tbody tr th:only-of-type {\n",
       "        vertical-align: middle;\n",
       "    }\n",
       "\n",
       "    .dataframe tbody tr th {\n",
       "        vertical-align: top;\n",
       "    }\n",
       "\n",
       "    .dataframe thead th {\n",
       "        text-align: right;\n",
       "    }\n",
       "</style>\n",
       "<table border=\"1\" class=\"dataframe\">\n",
       "  <thead>\n",
       "    <tr style=\"text-align: right;\">\n",
       "      <th></th>\n",
       "      <th>word</th>\n",
       "      <th>freq</th>\n",
       "    </tr>\n",
       "  </thead>\n",
       "  <tbody>\n",
       "    <tr>\n",
       "      <th>1</th>\n",
       "      <td>جان</td>\n",
       "      <td>77725</td>\n",
       "    </tr>\n",
       "    <tr>\n",
       "      <th>8</th>\n",
       "      <td>دست</td>\n",
       "      <td>53927</td>\n",
       "    </tr>\n",
       "    <tr>\n",
       "      <th>3</th>\n",
       "      <td>چشم</td>\n",
       "      <td>50247</td>\n",
       "    </tr>\n",
       "    <tr>\n",
       "      <th>69</th>\n",
       "      <td>عشق</td>\n",
       "      <td>50197</td>\n",
       "    </tr>\n",
       "    <tr>\n",
       "      <th>0</th>\n",
       "      <td>جهان</td>\n",
       "      <td>43392</td>\n",
       "    </tr>\n",
       "  </tbody>\n",
       "</table>\n",
       "</div>"
      ],
      "text/plain": [
       "    word   freq\n",
       "1    جان  77725\n",
       "8    دست  53927\n",
       "3    چشم  50247\n",
       "69   عشق  50197\n",
       "0   جهان  43392"
      ]
     },
     "execution_count": 10,
     "metadata": {},
     "output_type": "execute_result"
    }
   ],
   "source": [
    "data.head()"
   ]
  },
  {
   "cell_type": "code",
   "execution_count": 11,
   "id": "163b1997",
   "metadata": {},
   "outputs": [
    {
     "data": {
      "text/html": [
       "<div>\n",
       "<style scoped>\n",
       "    .dataframe tbody tr th:only-of-type {\n",
       "        vertical-align: middle;\n",
       "    }\n",
       "\n",
       "    .dataframe tbody tr th {\n",
       "        vertical-align: top;\n",
       "    }\n",
       "\n",
       "    .dataframe thead th {\n",
       "        text-align: right;\n",
       "    }\n",
       "</style>\n",
       "<table border=\"1\" class=\"dataframe\">\n",
       "  <thead>\n",
       "    <tr style=\"text-align: right;\">\n",
       "      <th></th>\n",
       "      <th>word</th>\n",
       "      <th>freq</th>\n",
       "    </tr>\n",
       "  </thead>\n",
       "  <tbody>\n",
       "    <tr>\n",
       "      <th>230</th>\n",
       "      <td>سپنج</td>\n",
       "      <td>5</td>\n",
       "    </tr>\n",
       "    <tr>\n",
       "      <th>235</th>\n",
       "      <td>قدح</td>\n",
       "      <td>5</td>\n",
       "    </tr>\n",
       "    <tr>\n",
       "      <th>245</th>\n",
       "      <td>صف</td>\n",
       "      <td>5</td>\n",
       "    </tr>\n",
       "    <tr>\n",
       "      <th>238</th>\n",
       "      <td>کاو</td>\n",
       "      <td>5</td>\n",
       "    </tr>\n",
       "    <tr>\n",
       "      <th>239</th>\n",
       "      <td>پیچیده</td>\n",
       "      <td>5</td>\n",
       "    </tr>\n",
       "    <tr>\n",
       "      <th>222</th>\n",
       "      <td>یاقوت</td>\n",
       "      <td>5</td>\n",
       "    </tr>\n",
       "    <tr>\n",
       "      <th>224</th>\n",
       "      <td>نهم</td>\n",
       "      <td>5</td>\n",
       "    </tr>\n",
       "    <tr>\n",
       "      <th>240</th>\n",
       "      <td>نادان</td>\n",
       "      <td>5</td>\n",
       "    </tr>\n",
       "    <tr>\n",
       "      <th>220</th>\n",
       "      <td>نیل</td>\n",
       "      <td>5</td>\n",
       "    </tr>\n",
       "    <tr>\n",
       "      <th>217</th>\n",
       "      <td>ملوک</td>\n",
       "      <td>5</td>\n",
       "    </tr>\n",
       "  </tbody>\n",
       "</table>\n",
       "</div>"
      ],
      "text/plain": [
       "       word  freq\n",
       "230    سپنج     5\n",
       "235     قدح     5\n",
       "245      صف     5\n",
       "238     کاو     5\n",
       "239  پیچیده     5\n",
       "222   یاقوت     5\n",
       "224     نهم     5\n",
       "240   نادان     5\n",
       "220     نیل     5\n",
       "217    ملوک     5"
      ]
     },
     "execution_count": 11,
     "metadata": {},
     "output_type": "execute_result"
    }
   ],
   "source": [
    "data.tail(10)"
   ]
  },
  {
   "cell_type": "code",
   "execution_count": 12,
   "id": "b4d20e3c",
   "metadata": {},
   "outputs": [
    {
     "data": {
      "text/html": [
       "<div>\n",
       "<style scoped>\n",
       "    .dataframe tbody tr th:only-of-type {\n",
       "        vertical-align: middle;\n",
       "    }\n",
       "\n",
       "    .dataframe tbody tr th {\n",
       "        vertical-align: top;\n",
       "    }\n",
       "\n",
       "    .dataframe thead th {\n",
       "        text-align: right;\n",
       "    }\n",
       "</style>\n",
       "<table border=\"1\" class=\"dataframe\">\n",
       "  <thead>\n",
       "    <tr style=\"text-align: right;\">\n",
       "      <th></th>\n",
       "      <th>3</th>\n",
       "      <th>5</th>\n",
       "      <th>6</th>\n",
       "      <th>7</th>\n",
       "      <th>8</th>\n",
       "      <th>9</th>\n",
       "      <th>10</th>\n",
       "      <th>11</th>\n",
       "      <th>12</th>\n",
       "      <th>13</th>\n",
       "      <th>14</th>\n",
       "    </tr>\n",
       "  </thead>\n",
       "  <tbody>\n",
       "    <tr>\n",
       "      <th>0</th>\n",
       "      <td>(جهان, 49)</td>\n",
       "      <td>(جان, 6932)</td>\n",
       "      <td>(الله, 29867)</td>\n",
       "      <td>(جان, 15149)</td>\n",
       "      <td>(جان, 12186)</td>\n",
       "      <td>(جان, 4442)</td>\n",
       "      <td>(جان, 4635)</td>\n",
       "      <td>(چشم, 12392)</td>\n",
       "      <td>(عشق, 1955)</td>\n",
       "      <td>(جان, 6523)</td>\n",
       "      <td>(جان, 2528)</td>\n",
       "    </tr>\n",
       "    <tr>\n",
       "      <th>1</th>\n",
       "      <td>(جان, 38)</td>\n",
       "      <td>(جهان, 6858)</td>\n",
       "      <td>(جان, 18073)</td>\n",
       "      <td>(عشق, 7606)</td>\n",
       "      <td>(عشق, 7790)</td>\n",
       "      <td>(عشق, 3820)</td>\n",
       "      <td>(عشق, 3768)</td>\n",
       "      <td>(دست, 9477)</td>\n",
       "      <td>(جان, 1890)</td>\n",
       "      <td>(عشق, 5128)</td>\n",
       "      <td>(دست, 2370)</td>\n",
       "    </tr>\n",
       "    <tr>\n",
       "      <th>2</th>\n",
       "      <td>(باد, 38)</td>\n",
       "      <td>(دست, 6797)</td>\n",
       "      <td>(علی, 11719)</td>\n",
       "      <td>(دست, 7005)</td>\n",
       "      <td>(چشم, 6751)</td>\n",
       "      <td>(جام, 2896)</td>\n",
       "      <td>(غم, 3672)</td>\n",
       "      <td>(آب, 9423)</td>\n",
       "      <td>(چشم, 1741)</td>\n",
       "      <td>(دست, 5103)</td>\n",
       "      <td>(کار, 2048)</td>\n",
       "    </tr>\n",
       "    <tr>\n",
       "      <th>3</th>\n",
       "      <td>(چشم, 32)</td>\n",
       "      <td>(باد, 6602)</td>\n",
       "      <td>(دست, 9891)</td>\n",
       "      <td>(چشم, 6901)</td>\n",
       "      <td>(جهان, 6733)</td>\n",
       "      <td>(چشم, 2417)</td>\n",
       "      <td>(چشم, 3361)</td>\n",
       "      <td>(عشق, 7852)</td>\n",
       "      <td>(دست, 1660)</td>\n",
       "      <td>(چشم, 4409)</td>\n",
       "      <td>(چشم, 1851)</td>\n",
       "    </tr>\n",
       "    <tr>\n",
       "      <th>4</th>\n",
       "      <td>(آب, 31)</td>\n",
       "      <td>(شاه, 5895)</td>\n",
       "      <td>(جهان, 9529)</td>\n",
       "      <td>(آب, 5568)</td>\n",
       "      <td>(دست, 6074)</td>\n",
       "      <td>(غم, 2376)</td>\n",
       "      <td>(دست, 3352)</td>\n",
       "      <td>(صائب, 6972)</td>\n",
       "      <td>(غم, 1412)</td>\n",
       "      <td>(شاه, 3764)</td>\n",
       "      <td>(جهان, 1757)</td>\n",
       "    </tr>\n",
       "  </tbody>\n",
       "</table>\n",
       "</div>"
      ],
      "text/plain": [
       "           3             5              6             7             8   \\\n",
       "0  (جهان, 49)   (جان, 6932)  (الله, 29867)  (جان, 15149)  (جان, 12186)   \n",
       "1   (جان, 38)  (جهان, 6858)   (جان, 18073)   (عشق, 7606)   (عشق, 7790)   \n",
       "2   (باد, 38)   (دست, 6797)   (علی, 11719)   (دست, 7005)   (چشم, 6751)   \n",
       "3   (چشم, 32)   (باد, 6602)    (دست, 9891)   (چشم, 6901)  (جهان, 6733)   \n",
       "4    (آب, 31)   (شاه, 5895)   (جهان, 9529)    (آب, 5568)   (دست, 6074)   \n",
       "\n",
       "            9            10            11           12           13  \\\n",
       "0  (جان, 4442)  (جان, 4635)  (چشم, 12392)  (عشق, 1955)  (جان, 6523)   \n",
       "1  (عشق, 3820)  (عشق, 3768)   (دست, 9477)  (جان, 1890)  (عشق, 5128)   \n",
       "2  (جام, 2896)   (غم, 3672)    (آب, 9423)  (چشم, 1741)  (دست, 5103)   \n",
       "3  (چشم, 2417)  (چشم, 3361)   (عشق, 7852)  (دست, 1660)  (چشم, 4409)   \n",
       "4   (غم, 2376)  (دست, 3352)  (صائب, 6972)   (غم, 1412)  (شاه, 3764)   \n",
       "\n",
       "             14  \n",
       "0   (جان, 2528)  \n",
       "1   (دست, 2370)  \n",
       "2   (کار, 2048)  \n",
       "3   (چشم, 1851)  \n",
       "4  (جهان, 1757)  "
      ]
     },
     "execution_count": 12,
     "metadata": {},
     "output_type": "execute_result"
    }
   ],
   "source": [
    "freq_analysis.head()"
   ]
  },
  {
   "cell_type": "code",
   "execution_count": 13,
   "id": "dd74c9d8",
   "metadata": {},
   "outputs": [],
   "source": [
    "data.to_csv(\"unique_most_words.csv\",index=False)"
   ]
  },
  {
   "cell_type": "code",
   "execution_count": 14,
   "id": "909bcff8",
   "metadata": {},
   "outputs": [],
   "source": [
    "def vasf_ext(sentence):\n",
    "    grammar = r\"\"\"\n",
    "      NVASF: {<N|Ne><AJ>}\n",
    "      NEZAF: {<N|Ne><N|Ne>}\n",
    "    \"\"\"\n",
    "    cp = nltk.RegexpParser(grammar)\n",
    "    return (cp.parse(sentence))"
   ]
  },
  {
   "cell_type": "code",
   "execution_count": 15,
   "id": "f9e838bc",
   "metadata": {},
   "outputs": [
    {
     "name": "stderr",
     "output_type": "stream",
     "text": [
      "100%|██████████| 2140/2140 [00:01<00:00, 1721.12it/s]\n",
      " 67%|██████▋   | 207630/310544 [01:35<00:41, 2483.55it/s]"
     ]
    },
    {
     "name": "stdout",
     "output_type": "stream",
     "text": [
      "Warning: parsing empty text\n",
      "Warning: parsing empty text\n"
     ]
    },
    {
     "name": "stderr",
     "output_type": "stream",
     "text": [
      "100%|██████████| 310544/310544 [02:29<00:00, 2077.69it/s]\n",
      "100%|██████████| 521646/521646 [04:47<00:00, 1817.51it/s]\n",
      "100%|██████████| 319325/319325 [02:19<00:00, 2284.34it/s]\n",
      "100%|██████████| 288668/288668 [01:51<00:00, 2583.88it/s]\n",
      "100%|██████████| 125962/125962 [00:51<00:00, 2463.10it/s]\n",
      "100%|██████████| 165771/165771 [01:05<00:00, 2519.40it/s]\n",
      "100%|██████████| 358097/358097 [02:24<00:00, 2486.49it/s]\n",
      "100%|██████████| 79318/79318 [00:29<00:00, 2707.34it/s]\n",
      "100%|██████████| 258336/258336 [01:52<00:00, 2304.09it/s]\n",
      "100%|██████████| 148116/148116 [00:59<00:00, 2473.96it/s]\n"
     ]
    }
   ],
   "source": [
    "tarkibat = {}\n",
    "for key in word_tokenized:\n",
    "    tarkibat[key] = {}\n",
    "    NVASF = []\n",
    "    NEZAF = []\n",
    "    for sentence in tqdm.tqdm(word_tokenized[key]):\n",
    "        tree=vasf_ext(tagger.tag(sentence))\n",
    "        for subtree in tree.subtrees():\n",
    "            if subtree.label() == 'NVASF':\n",
    "                NVASF.append(subtree.leaves())\n",
    "            if subtree.label() == 'NEZAF':\n",
    "                NEZAF.append(subtree.leaves())   \n",
    "    tarkibat[key][\"NVASF\"]  = [' '.join([x[0],y[0]]) for x,y in NVASF]\n",
    "    tarkibat[key][\"NEZAF\"] =[' '.join([x[0],y[0]]) for x,y in NEZAF]  "
   ]
  },
  {
   "cell_type": "code",
   "execution_count": 16,
   "id": "2ca60fb9",
   "metadata": {},
   "outputs": [
    {
     "name": "stdout",
     "output_type": "stream",
     "text": [
      "663\n"
     ]
    },
    {
     "data": {
      "text/html": [
       "<div>\n",
       "<style scoped>\n",
       "    .dataframe tbody tr th:only-of-type {\n",
       "        vertical-align: middle;\n",
       "    }\n",
       "\n",
       "    .dataframe tbody tr th {\n",
       "        vertical-align: top;\n",
       "    }\n",
       "\n",
       "    .dataframe thead th {\n",
       "        text-align: right;\n",
       "    }\n",
       "</style>\n",
       "<table border=\"1\" class=\"dataframe\">\n",
       "  <thead>\n",
       "    <tr style=\"text-align: right;\">\n",
       "      <th></th>\n",
       "      <th>word</th>\n",
       "      <th>freq</th>\n",
       "    </tr>\n",
       "  </thead>\n",
       "  <tbody>\n",
       "    <tr>\n",
       "      <th>69</th>\n",
       "      <td>کردار سنگ</td>\n",
       "      <td>1</td>\n",
       "    </tr>\n",
       "    <tr>\n",
       "      <th>70</th>\n",
       "      <td>‌و سندان</td>\n",
       "      <td>1</td>\n",
       "    </tr>\n",
       "    <tr>\n",
       "      <th>71</th>\n",
       "      <td>سرود گویان</td>\n",
       "      <td>1</td>\n",
       "    </tr>\n",
       "    <tr>\n",
       "      <th>72</th>\n",
       "      <td>انس رادمردان</td>\n",
       "      <td>1</td>\n",
       "    </tr>\n",
       "    <tr>\n",
       "      <th>53</th>\n",
       "      <td>چه دندان</td>\n",
       "      <td>1</td>\n",
       "    </tr>\n",
       "  </tbody>\n",
       "</table>\n",
       "</div>"
      ],
      "text/plain": [
       "            word  freq\n",
       "69     کردار سنگ     1\n",
       "70      ‌و سندان     1\n",
       "71    سرود گویان     1\n",
       "72  انس رادمردان     1\n",
       "53      چه دندان     1"
      ]
     },
     "execution_count": 16,
     "metadata": {},
     "output_type": "execute_result"
    }
   ],
   "source": [
    "dataframe_NEZAF = {}\n",
    "freq_most = 100\n",
    "for key in tarkibat:\n",
    "    dataframe_NEZAF[key] = FreqDist(tarkibat[key][\"NEZAF\"]).most_common(freq_most)      \n",
    "freq_analysis_NEZAF = pd.DataFrame(dataframe_NEZAF)\n",
    "unique_most_words_NEZAF = {}\n",
    "for col in dataframe_NEZAF:\n",
    "    for w in dataframe_NEZAF[col]:\n",
    "        w1,w2 = w\n",
    "        size = unique_most_words_NEZAF.get(w1,0)\n",
    "        unique_most_words_NEZAF[w1] = size + int(w2)\n",
    "data_NEZAF = pd.DataFrame({\"word\":[key for key in unique_most_words_NEZAF],\"freq\":[unique_most_words_NEZAF[key] for key in unique_most_words_NEZAF]})\n",
    "data_NEZAF = data_NEZAF.sort_values(by=['freq'],ascending=False)\n",
    "data_NEZAF.to_csv(\"unique_most_NEZAF.csv\",index=False)\n",
    "print(len(data_NEZAF))\n",
    "data_NEZAF.tail()"
   ]
  },
  {
   "cell_type": "code",
   "execution_count": 17,
   "id": "5e1bcd52",
   "metadata": {},
   "outputs": [
    {
     "data": {
      "text/html": [
       "<div>\n",
       "<style scoped>\n",
       "    .dataframe tbody tr th:only-of-type {\n",
       "        vertical-align: middle;\n",
       "    }\n",
       "\n",
       "    .dataframe tbody tr th {\n",
       "        vertical-align: top;\n",
       "    }\n",
       "\n",
       "    .dataframe thead th {\n",
       "        text-align: right;\n",
       "    }\n",
       "</style>\n",
       "<table border=\"1\" class=\"dataframe\">\n",
       "  <thead>\n",
       "    <tr style=\"text-align: right;\">\n",
       "      <th></th>\n",
       "      <th>word</th>\n",
       "      <th>freq</th>\n",
       "    </tr>\n",
       "  </thead>\n",
       "  <tbody>\n",
       "    <tr>\n",
       "      <th>113</th>\n",
       "      <td>خون دل</td>\n",
       "      <td>1489</td>\n",
       "    </tr>\n",
       "    <tr>\n",
       "      <th>195</th>\n",
       "      <td>سر زلف</td>\n",
       "      <td>1281</td>\n",
       "    </tr>\n",
       "    <tr>\n",
       "      <th>184</th>\n",
       "      <td>سر کوی</td>\n",
       "      <td>1066</td>\n",
       "    </tr>\n",
       "    <tr>\n",
       "      <th>199</th>\n",
       "      <td>رسول خدا</td>\n",
       "      <td>1050</td>\n",
       "    </tr>\n",
       "    <tr>\n",
       "      <th>219</th>\n",
       "      <td>خون جگر</td>\n",
       "      <td>1021</td>\n",
       "    </tr>\n",
       "  </tbody>\n",
       "</table>\n",
       "</div>"
      ],
      "text/plain": [
       "         word  freq\n",
       "113    خون دل  1489\n",
       "195    سر زلف  1281\n",
       "184    سر کوی  1066\n",
       "199  رسول خدا  1050\n",
       "219   خون جگر  1021"
      ]
     },
     "execution_count": 17,
     "metadata": {},
     "output_type": "execute_result"
    }
   ],
   "source": [
    "data_NEZAF.head()\n"
   ]
  },
  {
   "cell_type": "code",
   "execution_count": 18,
   "id": "a266700c",
   "metadata": {},
   "outputs": [
    {
     "data": {
      "text/html": [
       "<div>\n",
       "<style scoped>\n",
       "    .dataframe tbody tr th:only-of-type {\n",
       "        vertical-align: middle;\n",
       "    }\n",
       "\n",
       "    .dataframe tbody tr th {\n",
       "        vertical-align: top;\n",
       "    }\n",
       "\n",
       "    .dataframe thead th {\n",
       "        text-align: right;\n",
       "    }\n",
       "</style>\n",
       "<table border=\"1\" class=\"dataframe\">\n",
       "  <thead>\n",
       "    <tr style=\"text-align: right;\">\n",
       "      <th></th>\n",
       "      <th>3</th>\n",
       "      <th>5</th>\n",
       "      <th>6</th>\n",
       "      <th>7</th>\n",
       "      <th>8</th>\n",
       "      <th>9</th>\n",
       "      <th>10</th>\n",
       "      <th>11</th>\n",
       "      <th>12</th>\n",
       "      <th>13</th>\n",
       "      <th>14</th>\n",
       "    </tr>\n",
       "  </thead>\n",
       "  <tbody>\n",
       "    <tr>\n",
       "      <th>0</th>\n",
       "      <td>(فاخته گون, 4)</td>\n",
       "      <td>(شیخ الاسلام, 800)</td>\n",
       "      <td>(رسول خدا, 1009)</td>\n",
       "      <td>(آب حیات, 245)</td>\n",
       "      <td>(نعمت الله, 675)</td>\n",
       "      <td>(غم عشق, 100)</td>\n",
       "      <td>(آب حیات, 117)</td>\n",
       "      <td>(بوی گل, 311)</td>\n",
       "      <td>(خون دل, 91)</td>\n",
       "      <td>(سر زلف, 166)</td>\n",
       "      <td>(خون دل, 92)</td>\n",
       "    </tr>\n",
       "    <tr>\n",
       "      <th>1</th>\n",
       "      <td>(گردش خورشید, 3)</td>\n",
       "      <td>(حق تعالی, 265)</td>\n",
       "      <td>(قال ابن, 466)</td>\n",
       "      <td>(سر زلف, 174)</td>\n",
       "      <td>(ابن یمین, 489)</td>\n",
       "      <td>(ابن حسام, 97)</td>\n",
       "      <td>(خون دل, 105)</td>\n",
       "      <td>(نقش پا, 253)</td>\n",
       "      <td>(خون جگر, 59)</td>\n",
       "      <td>(روز قیامت, 161)</td>\n",
       "      <td>(خون جگر, 54)</td>\n",
       "    </tr>\n",
       "    <tr>\n",
       "      <th>2</th>\n",
       "      <td>(سرای سپنج, 3)</td>\n",
       "      <td>(استاد ابوعلی, 158)</td>\n",
       "      <td>(ابن عباس, 459)</td>\n",
       "      <td>(خون دل, 171)</td>\n",
       "      <td>(سر زلف, 419)</td>\n",
       "      <td>(خون دل, 86)</td>\n",
       "      <td>(اى موش, 102)</td>\n",
       "      <td>(خون دل, 245)</td>\n",
       "      <td>(بوی گل, 55)</td>\n",
       "      <td>(حضرت امام, 156)</td>\n",
       "      <td>(باد صبا, 42)</td>\n",
       "    </tr>\n",
       "    <tr>\n",
       "      <th>3</th>\n",
       "      <td>(نام نیک, 2)</td>\n",
       "      <td>(رحمه الله, 141)</td>\n",
       "      <td>(رسول الله, 441)</td>\n",
       "      <td>(شمس تبریزی, 163)</td>\n",
       "      <td>(سر کوی, 341)</td>\n",
       "      <td>(سر کوی, 85)</td>\n",
       "      <td>(خون جگر, 95)</td>\n",
       "      <td>(شاخ گل, 214)</td>\n",
       "      <td>(کام دل, 50)</td>\n",
       "      <td>(خون دل, 148)</td>\n",
       "      <td>(سر زلف, 34)</td>\n",
       "    </tr>\n",
       "    <tr>\n",
       "      <th>4</th>\n",
       "      <td>(عاشقان نشین, 2)</td>\n",
       "      <td>(شاه جهان, 133)</td>\n",
       "      <td>(پیر طریقت, 309)</td>\n",
       "      <td>(سر کوی, 151)</td>\n",
       "      <td>(سیف فرغانی, 333)</td>\n",
       "      <td>(خون جگر, 75)</td>\n",
       "      <td>(درد دل, 93)</td>\n",
       "      <td>(خون جگر, 204)</td>\n",
       "      <td>(شاخ گل, 43)</td>\n",
       "      <td>(السلام مروی, 127)</td>\n",
       "      <td>(علی جان, 33)</td>\n",
       "    </tr>\n",
       "  </tbody>\n",
       "</table>\n",
       "</div>"
      ],
      "text/plain": [
       "                 3                    5                 6                  7   \\\n",
       "0    (فاخته گون, 4)   (شیخ الاسلام, 800)  (رسول خدا, 1009)     (آب حیات, 245)   \n",
       "1  (گردش خورشید, 3)      (حق تعالی, 265)    (قال ابن, 466)      (سر زلف, 174)   \n",
       "2    (سرای سپنج, 3)  (استاد ابوعلی, 158)   (ابن عباس, 459)      (خون دل, 171)   \n",
       "3      (نام نیک, 2)     (رحمه الله, 141)  (رسول الله, 441)  (شمس تبریزی, 163)   \n",
       "4  (عاشقان نشین, 2)      (شاه جهان, 133)  (پیر طریقت, 309)      (سر کوی, 151)   \n",
       "\n",
       "                  8               9               10              11  \\\n",
       "0   (نعمت الله, 675)   (غم عشق, 100)  (آب حیات, 117)   (بوی گل, 311)   \n",
       "1    (ابن یمین, 489)  (ابن حسام, 97)   (خون دل, 105)   (نقش پا, 253)   \n",
       "2      (سر زلف, 419)    (خون دل, 86)   (اى موش, 102)   (خون دل, 245)   \n",
       "3      (سر کوی, 341)    (سر کوی, 85)   (خون جگر, 95)   (شاخ گل, 214)   \n",
       "4  (سیف فرغانی, 333)   (خون جگر, 75)    (درد دل, 93)  (خون جگر, 204)   \n",
       "\n",
       "              12                  13             14  \n",
       "0   (خون دل, 91)       (سر زلف, 166)   (خون دل, 92)  \n",
       "1  (خون جگر, 59)    (روز قیامت, 161)  (خون جگر, 54)  \n",
       "2   (بوی گل, 55)    (حضرت امام, 156)  (باد صبا, 42)  \n",
       "3   (کام دل, 50)       (خون دل, 148)   (سر زلف, 34)  \n",
       "4   (شاخ گل, 43)  (السلام مروی, 127)  (علی جان, 33)  "
      ]
     },
     "execution_count": 18,
     "metadata": {},
     "output_type": "execute_result"
    }
   ],
   "source": [
    "freq_analysis_NEZAF.head()"
   ]
  },
  {
   "cell_type": "code",
   "execution_count": 19,
   "id": "78a23731",
   "metadata": {},
   "outputs": [
    {
     "name": "stdout",
     "output_type": "stream",
     "text": [
      "683\n"
     ]
    },
    {
     "data": {
      "text/html": [
       "<div>\n",
       "<style scoped>\n",
       "    .dataframe tbody tr th:only-of-type {\n",
       "        vertical-align: middle;\n",
       "    }\n",
       "\n",
       "    .dataframe tbody tr th {\n",
       "        vertical-align: top;\n",
       "    }\n",
       "\n",
       "    .dataframe thead th {\n",
       "        text-align: right;\n",
       "    }\n",
       "</style>\n",
       "<table border=\"1\" class=\"dataframe\">\n",
       "  <thead>\n",
       "    <tr style=\"text-align: right;\">\n",
       "      <th></th>\n",
       "      <th>word</th>\n",
       "      <th>freq</th>\n",
       "    </tr>\n",
       "  </thead>\n",
       "  <tbody>\n",
       "    <tr>\n",
       "      <th>16</th>\n",
       "      <td>زمین فرسوده</td>\n",
       "      <td>1</td>\n",
       "    </tr>\n",
       "    <tr>\n",
       "      <th>17</th>\n",
       "      <td>خون فسرده</td>\n",
       "      <td>1</td>\n",
       "    </tr>\n",
       "    <tr>\n",
       "      <th>18</th>\n",
       "      <td>شرنگ نوش</td>\n",
       "      <td>1</td>\n",
       "    </tr>\n",
       "    <tr>\n",
       "      <th>44</th>\n",
       "      <td>ایغده سری</td>\n",
       "      <td>1</td>\n",
       "    </tr>\n",
       "    <tr>\n",
       "      <th>46</th>\n",
       "      <td>رخ جوی</td>\n",
       "      <td>1</td>\n",
       "    </tr>\n",
       "  </tbody>\n",
       "</table>\n",
       "</div>"
      ],
      "text/plain": [
       "           word  freq\n",
       "16  زمین فرسوده     1\n",
       "17    خون فسرده     1\n",
       "18     شرنگ نوش     1\n",
       "44    ایغده سری     1\n",
       "46       رخ جوی     1"
      ]
     },
     "execution_count": 19,
     "metadata": {},
     "output_type": "execute_result"
    }
   ],
   "source": [
    "dataframe_NVASF = {}\n",
    "freq_most = 100\n",
    "for key in tarkibat:\n",
    "    dataframe_NVASF[key] = FreqDist(tarkibat[key][\"NVASF\"]).most_common(freq_most)      \n",
    "freq_analysis_NVASF = pd.DataFrame(dataframe_NVASF)\n",
    "unique_most_words_NVASF = {}\n",
    "for col in dataframe_NVASF:\n",
    "    for w in dataframe_NVASF[col]:\n",
    "        w1,w2 = w\n",
    "        size = unique_most_words_NVASF.get(w1,0)\n",
    "        unique_most_words_NVASF[w1] = size + int(w2)\n",
    "data_NVASF = pd.DataFrame({\"word\":[key for key in unique_most_words_NVASF],\"freq\":[unique_most_words_NVASF[key] for key in unique_most_words_NVASF]})\n",
    "data_NVASF = data_NVASF.sort_values(by=['freq'],ascending=False)\n",
    "data_NVASF.to_csv(\"unique_most_NVASF.csv\",index=False)\n",
    "print(len(data))\n",
    "data_NVASF.tail()"
   ]
  },
  {
   "cell_type": "code",
   "execution_count": 20,
   "id": "75b13d62",
   "metadata": {},
   "outputs": [
    {
     "data": {
      "text/html": [
       "<div>\n",
       "<style scoped>\n",
       "    .dataframe tbody tr th:only-of-type {\n",
       "        vertical-align: middle;\n",
       "    }\n",
       "\n",
       "    .dataframe tbody tr th {\n",
       "        vertical-align: top;\n",
       "    }\n",
       "\n",
       "    .dataframe thead th {\n",
       "        text-align: right;\n",
       "    }\n",
       "</style>\n",
       "<table border=\"1\" class=\"dataframe\">\n",
       "  <thead>\n",
       "    <tr style=\"text-align: right;\">\n",
       "      <th></th>\n",
       "      <th>word</th>\n",
       "      <th>freq</th>\n",
       "    </tr>\n",
       "  </thead>\n",
       "  <tbody>\n",
       "    <tr>\n",
       "      <th>100</th>\n",
       "      <td>خدای تعالی</td>\n",
       "      <td>1887</td>\n",
       "    </tr>\n",
       "    <tr>\n",
       "      <th>109</th>\n",
       "      <td>چشم بد</td>\n",
       "      <td>742</td>\n",
       "    </tr>\n",
       "    <tr>\n",
       "      <th>108</th>\n",
       "      <td>آب روان</td>\n",
       "      <td>715</td>\n",
       "    </tr>\n",
       "    <tr>\n",
       "      <th>114</th>\n",
       "      <td>ماه نو</td>\n",
       "      <td>671</td>\n",
       "    </tr>\n",
       "    <tr>\n",
       "      <th>119</th>\n",
       "      <td>دل پر</td>\n",
       "      <td>491</td>\n",
       "    </tr>\n",
       "  </tbody>\n",
       "</table>\n",
       "</div>"
      ],
      "text/plain": [
       "           word  freq\n",
       "100  خدای تعالی  1887\n",
       "109      چشم بد   742\n",
       "108     آب روان   715\n",
       "114      ماه نو   671\n",
       "119       دل پر   491"
      ]
     },
     "execution_count": 20,
     "metadata": {},
     "output_type": "execute_result"
    }
   ],
   "source": [
    "data_NVASF.head()"
   ]
  },
  {
   "cell_type": "code",
   "execution_count": 21,
   "id": "b8046c8a",
   "metadata": {},
   "outputs": [
    {
     "data": {
      "text/html": [
       "<div>\n",
       "<style scoped>\n",
       "    .dataframe tbody tr th:only-of-type {\n",
       "        vertical-align: middle;\n",
       "    }\n",
       "\n",
       "    .dataframe tbody tr th {\n",
       "        vertical-align: top;\n",
       "    }\n",
       "\n",
       "    .dataframe thead th {\n",
       "        text-align: right;\n",
       "    }\n",
       "</style>\n",
       "<table border=\"1\" class=\"dataframe\">\n",
       "  <thead>\n",
       "    <tr style=\"text-align: right;\">\n",
       "      <th></th>\n",
       "      <th>3</th>\n",
       "      <th>5</th>\n",
       "      <th>6</th>\n",
       "      <th>7</th>\n",
       "      <th>8</th>\n",
       "      <th>9</th>\n",
       "      <th>10</th>\n",
       "      <th>11</th>\n",
       "      <th>12</th>\n",
       "      <th>13</th>\n",
       "      <th>14</th>\n",
       "    </tr>\n",
       "  </thead>\n",
       "  <tbody>\n",
       "    <tr>\n",
       "      <th>0</th>\n",
       "      <td>(گل سرخ, 6)</td>\n",
       "      <td>(خدای تعالی, 1301)</td>\n",
       "      <td>(خدای تعالی, 361)</td>\n",
       "      <td>(چشم بد, 134)</td>\n",
       "      <td>(دل خسته, 131)</td>\n",
       "      <td>(مه نو, 52)</td>\n",
       "      <td>(دل پر, 62)</td>\n",
       "      <td>(آب روان, 201)</td>\n",
       "      <td>(سرو روان, 23)</td>\n",
       "      <td>(خدای تعالی, 184)</td>\n",
       "      <td>(راه دور, 91)</td>\n",
       "    </tr>\n",
       "    <tr>\n",
       "      <th>1</th>\n",
       "      <td>(دهان پر, 3)</td>\n",
       "      <td>(حق تعالی, 301)</td>\n",
       "      <td>(الله تعالی, 241)</td>\n",
       "      <td>(آب روان, 83)</td>\n",
       "      <td>(آب روان, 117)</td>\n",
       "      <td>(عالم پر, 30)</td>\n",
       "      <td>(مه نو, 56)</td>\n",
       "      <td>(ماه نو, 200)</td>\n",
       "      <td>(دل تنگ, 21)</td>\n",
       "      <td>(ماه نو, 59)</td>\n",
       "      <td>(رنج بسیار, 81)</td>\n",
       "    </tr>\n",
       "    <tr>\n",
       "      <th>2</th>\n",
       "      <td>(عاشق کم, 2)</td>\n",
       "      <td>(خدای عزوجل, 193)</td>\n",
       "      <td>(ابو بکر, 167)</td>\n",
       "      <td>(سرو روان, 78)</td>\n",
       "      <td>(سرو روان, 106)</td>\n",
       "      <td>(ماه نو, 30)</td>\n",
       "      <td>(ماه نو, 45)</td>\n",
       "      <td>(ریگ روان, 172)</td>\n",
       "      <td>(خواب گران, 20)</td>\n",
       "      <td>(دل پر, 52)</td>\n",
       "      <td>(خواب گران, 43)</td>\n",
       "    </tr>\n",
       "    <tr>\n",
       "      <th>3</th>\n",
       "      <td>(باغ خرم, 2)</td>\n",
       "      <td>(خداوند تعالی, 185)</td>\n",
       "      <td>(حق جل, 163)</td>\n",
       "      <td>(حق تعالی, 61)</td>\n",
       "      <td>(شب تیره, 101)</td>\n",
       "      <td>(چشم بد, 27)</td>\n",
       "      <td>(بخت بد, 40)</td>\n",
       "      <td>(دولت بیدار, 164)</td>\n",
       "      <td>(آب روان, 18)</td>\n",
       "      <td>(آب روان, 50)</td>\n",
       "      <td>(شیر نر, 38)</td>\n",
       "    </tr>\n",
       "    <tr>\n",
       "      <th>4</th>\n",
       "      <td>(نبیذ روشن, 2)</td>\n",
       "      <td>(نفس کلی, 180)</td>\n",
       "      <td>(خدای عز, 155)</td>\n",
       "      <td>(دل تنگ, 56)</td>\n",
       "      <td>(گرز گران, 97)</td>\n",
       "      <td>(دل تنگ, 27)</td>\n",
       "      <td>(خداوند تعالی, 36)</td>\n",
       "      <td>(خواب گران, 161)</td>\n",
       "      <td>(چشم سیه, 18)</td>\n",
       "      <td>(خلد برین, 49)</td>\n",
       "      <td>(گل سرخ, 30)</td>\n",
       "    </tr>\n",
       "  </tbody>\n",
       "</table>\n",
       "</div>"
      ],
      "text/plain": [
       "               3                    5                  6               7   \\\n",
       "0     (گل سرخ, 6)   (خدای تعالی, 1301)  (خدای تعالی, 361)   (چشم بد, 134)   \n",
       "1    (دهان پر, 3)      (حق تعالی, 301)  (الله تعالی, 241)   (آب روان, 83)   \n",
       "2    (عاشق کم, 2)    (خدای عزوجل, 193)     (ابو بکر, 167)  (سرو روان, 78)   \n",
       "3    (باغ خرم, 2)  (خداوند تعالی, 185)       (حق جل, 163)  (حق تعالی, 61)   \n",
       "4  (نبیذ روشن, 2)       (نفس کلی, 180)     (خدای عز, 155)    (دل تنگ, 56)   \n",
       "\n",
       "                8              9                   10                 11  \\\n",
       "0   (دل خسته, 131)    (مه نو, 52)         (دل پر, 62)     (آب روان, 201)   \n",
       "1   (آب روان, 117)  (عالم پر, 30)         (مه نو, 56)      (ماه نو, 200)   \n",
       "2  (سرو روان, 106)   (ماه نو, 30)        (ماه نو, 45)    (ریگ روان, 172)   \n",
       "3   (شب تیره, 101)   (چشم بد, 27)        (بخت بد, 40)  (دولت بیدار, 164)   \n",
       "4   (گرز گران, 97)   (دل تنگ, 27)  (خداوند تعالی, 36)   (خواب گران, 161)   \n",
       "\n",
       "                12                 13               14  \n",
       "0   (سرو روان, 23)  (خدای تعالی, 184)    (راه دور, 91)  \n",
       "1     (دل تنگ, 21)       (ماه نو, 59)  (رنج بسیار, 81)  \n",
       "2  (خواب گران, 20)        (دل پر, 52)  (خواب گران, 43)  \n",
       "3    (آب روان, 18)      (آب روان, 50)     (شیر نر, 38)  \n",
       "4    (چشم سیه, 18)     (خلد برین, 49)     (گل سرخ, 30)  "
      ]
     },
     "execution_count": 21,
     "metadata": {},
     "output_type": "execute_result"
    }
   ],
   "source": [
    "freq_analysis_NVASF.head()"
   ]
  },
  {
   "cell_type": "code",
   "execution_count": 22,
   "id": "12c49a3c",
   "metadata": {},
   "outputs": [
    {
     "name": "stderr",
     "output_type": "stream",
     "text": [
      "/tmp/ipykernel_31718/2068455252.py:5: RuntimeWarning: More than 20 figures have been opened. Figures created through the pyplot interface (`matplotlib.pyplot.figure`) are retained until explicitly closed and may consume too much memory. (To control this warning, see the rcParam `figure.max_open_warning`).\n",
      "  plt.figure(figsize =(15, 12))\n"
     ]
    },
    {
     "data": {
      "text/plain": [
       "<Figure size 1080x864 with 0 Axes>"
      ]
     },
     "metadata": {},
     "output_type": "display_data"
    },
    {
     "data": {
      "text/plain": [
       "<Figure size 1080x864 with 0 Axes>"
      ]
     },
     "metadata": {},
     "output_type": "display_data"
    },
    {
     "data": {
      "text/plain": [
       "<Figure size 1080x864 with 0 Axes>"
      ]
     },
     "metadata": {},
     "output_type": "display_data"
    },
    {
     "data": {
      "text/plain": [
       "<Figure size 1080x864 with 0 Axes>"
      ]
     },
     "metadata": {},
     "output_type": "display_data"
    },
    {
     "data": {
      "text/plain": [
       "<Figure size 1080x864 with 0 Axes>"
      ]
     },
     "metadata": {},
     "output_type": "display_data"
    },
    {
     "data": {
      "text/plain": [
       "<Figure size 1080x864 with 0 Axes>"
      ]
     },
     "metadata": {},
     "output_type": "display_data"
    },
    {
     "data": {
      "text/plain": [
       "<Figure size 1080x864 with 0 Axes>"
      ]
     },
     "metadata": {},
     "output_type": "display_data"
    },
    {
     "data": {
      "text/plain": [
       "<Figure size 1080x864 with 0 Axes>"
      ]
     },
     "metadata": {},
     "output_type": "display_data"
    },
    {
     "data": {
      "text/plain": [
       "<Figure size 1080x864 with 0 Axes>"
      ]
     },
     "metadata": {},
     "output_type": "display_data"
    },
    {
     "data": {
      "text/plain": [
       "<Figure size 1080x864 with 0 Axes>"
      ]
     },
     "metadata": {},
     "output_type": "display_data"
    },
    {
     "data": {
      "text/plain": [
       "<Figure size 1080x864 with 0 Axes>"
      ]
     },
     "metadata": {},
     "output_type": "display_data"
    },
    {
     "data": {
      "text/plain": [
       "<Figure size 1080x864 with 0 Axes>"
      ]
     },
     "metadata": {},
     "output_type": "display_data"
    },
    {
     "data": {
      "text/plain": [
       "<Figure size 1080x864 with 0 Axes>"
      ]
     },
     "metadata": {},
     "output_type": "display_data"
    },
    {
     "data": {
      "text/plain": [
       "<Figure size 1080x864 with 0 Axes>"
      ]
     },
     "metadata": {},
     "output_type": "display_data"
    },
    {
     "data": {
      "text/plain": [
       "<Figure size 1080x864 with 0 Axes>"
      ]
     },
     "metadata": {},
     "output_type": "display_data"
    },
    {
     "data": {
      "text/plain": [
       "<Figure size 1080x864 with 0 Axes>"
      ]
     },
     "metadata": {},
     "output_type": "display_data"
    },
    {
     "data": {
      "text/plain": [
       "<Figure size 1080x864 with 0 Axes>"
      ]
     },
     "metadata": {},
     "output_type": "display_data"
    },
    {
     "data": {
      "text/plain": [
       "<Figure size 1080x864 with 0 Axes>"
      ]
     },
     "metadata": {},
     "output_type": "display_data"
    },
    {
     "data": {
      "text/plain": [
       "<Figure size 1080x864 with 0 Axes>"
      ]
     },
     "metadata": {},
     "output_type": "display_data"
    },
    {
     "data": {
      "text/plain": [
       "<Figure size 1080x864 with 0 Axes>"
      ]
     },
     "metadata": {},
     "output_type": "display_data"
    },
    {
     "data": {
      "text/plain": [
       "<Figure size 1080x864 with 0 Axes>"
      ]
     },
     "metadata": {},
     "output_type": "display_data"
    },
    {
     "data": {
      "text/plain": [
       "<Figure size 1080x864 with 0 Axes>"
      ]
     },
     "metadata": {},
     "output_type": "display_data"
    },
    {
     "data": {
      "text/plain": [
       "<Figure size 1080x864 with 0 Axes>"
      ]
     },
     "metadata": {},
     "output_type": "display_data"
    },
    {
     "data": {
      "text/plain": [
       "<Figure size 1080x864 with 0 Axes>"
      ]
     },
     "metadata": {},
     "output_type": "display_data"
    },
    {
     "data": {
      "text/plain": [
       "<Figure size 1080x864 with 0 Axes>"
      ]
     },
     "metadata": {},
     "output_type": "display_data"
    },
    {
     "data": {
      "text/plain": [
       "<Figure size 1080x864 with 0 Axes>"
      ]
     },
     "metadata": {},
     "output_type": "display_data"
    },
    {
     "data": {
      "text/plain": [
       "<Figure size 1080x864 with 0 Axes>"
      ]
     },
     "metadata": {},
     "output_type": "display_data"
    },
    {
     "data": {
      "text/plain": [
       "<Figure size 1080x864 with 0 Axes>"
      ]
     },
     "metadata": {},
     "output_type": "display_data"
    },
    {
     "data": {
      "text/plain": [
       "<Figure size 1080x864 with 0 Axes>"
      ]
     },
     "metadata": {},
     "output_type": "display_data"
    },
    {
     "data": {
      "text/plain": [
       "<Figure size 1080x864 with 0 Axes>"
      ]
     },
     "metadata": {},
     "output_type": "display_data"
    },
    {
     "data": {
      "text/plain": [
       "<Figure size 1080x864 with 0 Axes>"
      ]
     },
     "metadata": {},
     "output_type": "display_data"
    },
    {
     "data": {
      "text/plain": [
       "<Figure size 1080x864 with 0 Axes>"
      ]
     },
     "metadata": {},
     "output_type": "display_data"
    },
    {
     "data": {
      "text/plain": [
       "<Figure size 1080x864 with 0 Axes>"
      ]
     },
     "metadata": {},
     "output_type": "display_data"
    },
    {
     "data": {
      "text/plain": [
       "<Figure size 1080x864 with 0 Axes>"
      ]
     },
     "metadata": {},
     "output_type": "display_data"
    },
    {
     "data": {
      "text/plain": [
       "<Figure size 1080x864 with 0 Axes>"
      ]
     },
     "metadata": {},
     "output_type": "display_data"
    },
    {
     "data": {
      "text/plain": [
       "<Figure size 1080x864 with 0 Axes>"
      ]
     },
     "metadata": {},
     "output_type": "display_data"
    }
   ],
   "source": [
    "\n",
    "data_words = {}\n",
    "for key in dataframe:\n",
    "    data_words[key] = {}\n",
    "def pi_plot(data,label,title):\n",
    "    plt.figure(figsize =(15, 12))\n",
    "    plt.title(title)\n",
    "    plt.pie(data, labels = label,autopct='%1.1f%%',shadow = True,)\n",
    "    plt.savefig(f'charts/{title}.png')\n",
    "    plt.clf()\n",
    "def type_recog(src,most_freq = None,title = \"_words\"):\n",
    "    type_data_set = pd.read_csv(f\"type_dataset/{src}.csv\")\n",
    "    type_data_set.head()\n",
    "    types = type_data_set[\"type\"].unique()\n",
    "    all = []\n",
    "    index = []\n",
    "    for col in types:\n",
    "        all.append(type_data_set[type_data_set[\"type\"] == col][\"freq\"].sum())\n",
    "        index.append(col)\n",
    "    type_rec = {}\n",
    "    for ind,row in type_data_set.iterrows():\n",
    "        type_rec[row[\"word\"]] = row[\"type\"]\n",
    "    pi_plot(all,index,f\"all_century{title}\")\n",
    "    all = {}\n",
    "    for key in most_freq:\n",
    "        d = most_freq[key]\n",
    "        data_words[key][title] = {}\n",
    "        for w in d:\n",
    "            w1,w2 = w\n",
    "            t = type_rec.get(w1,\"others\")\n",
    "            all[t] = all.get(t,0)+int(w2)\n",
    "        \n",
    "        for key2,num in all.items():\n",
    "            data_words[key][title][key2] = num\n",
    "        pi_plot([all[key] for key in all],[key for key in all],f\"{key}{title}\")\n",
    "\n",
    "\n",
    "type_recog(\"unique_most_words\",dataframe,\"_words\")\n",
    "type_recog(\"unique_most_NVASF\",dataframe_NVASF,\"_words_NVASF\")\n",
    "type_recog(\"unique_most_NEZAF\",dataframe_NEZAF,\"_words_NEZAF\")"
   ]
  },
  {
   "cell_type": "code",
   "execution_count": 23,
   "id": "6180470d",
   "metadata": {},
   "outputs": [
    {
     "data": {
      "image/png": "[encoded data removed]",
      "text/plain": [
       "<Figure size 1080x864 with 2 Axes>"
      ]
     },
     "metadata": {
      "needs_background": "light"
     },
     "output_type": "display_data"
    },
    {
     "data": {
      "image/png": "[encoded data removed]",
      "text/plain": [
       "<Figure size 1080x864 with 2 Axes>"
      ]
     },
     "metadata": {
      "needs_background": "light"
     },
     "output_type": "display_data"
    },
    {
     "data": {
      "image/png": "[encoded data removed]",
      "text/plain": [
       "<Figure size 1080x864 with 2 Axes>"
      ]
     },
     "metadata": {
      "needs_background": "light"
     },
     "output_type": "display_data"
    }
   ],
   "source": [
    "corr_data = {\"_words\":None,\"_words_NVASF\":None,\"_words_NEZAF\":None}\n",
    "cols = [key for key in data_words[3][\"_words\"]]\n",
    "index  = centries\n",
    "for key in [\"_words\",\"_words_NVASF\",\"_words_NEZAF\"]:\n",
    "    arr = []\n",
    "    for i in index:\n",
    "        arr2 = []\n",
    "        for t in [\"philosophy\",\"love\",\"daily\",\"religion\",\"others\"]:\n",
    "            arr2.append(data_words[i][key][t])\n",
    "        arr2 = [a/sum(arr2) for a in arr2]\n",
    "        arr.append(arr2)\n",
    "    corr_data[key] = pd.DataFrame(columns=cols,index = index , data=arr)\n",
    "for key in corr_data:\n",
    "    plt.figure(figsize =(15, 12))\n",
    "    sb.heatmap(corr_data[key].corr(), cmap=\"YlGnBu\", annot=True)\n",
    "    plt.title(f\"century{key}_cor\")\n",
    "    plt.savefig(f\"charts/century{key}_cor.png\")"
   ]
  },
  {
   "cell_type": "code",
   "execution_count": 24,
   "id": "ac07fba8",
   "metadata": {},
   "outputs": [
    {
     "data": {
      "text/plain": [
       "<Figure size 1080x864 with 0 Axes>"
      ]
     },
     "metadata": {},
     "output_type": "display_data"
    },
    {
     "data": {
      "text/plain": [
       "<Figure size 1080x864 with 0 Axes>"
      ]
     },
     "metadata": {},
     "output_type": "display_data"
    },
    {
     "data": {
      "text/plain": [
       "<Figure size 1080x864 with 0 Axes>"
      ]
     },
     "metadata": {},
     "output_type": "display_data"
    }
   ],
   "source": [
    "\n",
    "\n",
    "for key in [\"_words\",\"_words_NVASF\",\"_words_NEZAF\"]:\n",
    "   plt.figure(figsize =(15, 12))\n",
    "   for t in range(len([\"philosophy\",\"love\",\"daily\",\"religion\",\"others\"])):\n",
    "      plt.plot(index, [corr_data[key].to_numpy()[i][t] for i in range(len(index))], '-o')\n",
    "   plt.legend([\"philosophy\",\"love\",\"daily\",\"religion\",\"others\"])\n",
    "   plt.ylabel('Percent')\n",
    "   plt.xlabel('Century')\n",
    "   plt.title(f\"digram{key}\")\n",
    "   plt.savefig(f\"charts/digram{key}.png\")\n",
    "   plt.clf()"
   ]
  }
 ],
 "metadata": {
  "kernelspec": {
   "display_name": "Python 3 (ipykernel)",
   "language": "python",
   "name": "python3"
  },
  "language_info": {
   "codemirror_mode": {
    "name": "ipython",
    "version": 3
   },
   "file_extension": ".py",
   "mimetype": "text/x-python",
   "name": "python",
   "nbconvert_exporter": "python",
   "pygments_lexer": "ipython3",
   "version": "3.9.7"
  }
 },
 "nbformat": 4,
 "nbformat_minor": 5
}
