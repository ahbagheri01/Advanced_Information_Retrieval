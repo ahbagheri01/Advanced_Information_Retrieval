{
 "cells": [
  {
   "cell_type": "code",
   "execution_count": 3,
   "metadata": {},
   "outputs": [],
   "source": [
    "import numpy as np\n",
    "from scipy import sparse\n",
    "import networkx as nx"
   ]
  },
  {
   "cell_type": "markdown",
   "metadata": {},
   "source": [
    "## Amirhossein Bagheri 98105621\n",
    "## Mohammad Sadegh majidi Yazdi  98106004\n",
    "## Amirmahdi kousheshi 98171053\n"
   ]
  },
  {
   "cell_type": "markdown",
   "metadata": {},
   "source": [
    "# page ranking and Hits\n",
    "+ implementation of hits and page_ranking with networkx library \n",
    "+ loading authors_sparse and articles_sparse will gives us sparse matrices that are weighted links graph\n",
    "+ <b> we implemented both atricles and authors it was really easy because we had both matrices and our class\n",
    "`Page_Ranking_Hits` is working dynamilally for both   </b>\n",
    "\n"
   ]
  },
  {
   "cell_type": "code",
   "execution_count": 4,
   "metadata": {},
   "outputs": [],
   "source": [
    "class Page_Ranking_Hits:\n",
    "    def __init__(self, objective = \"article\"):\n",
    "        self.ref_matrix = None\n",
    "        self.authors = sparse.load_npz(\"./Module_data/authors_sparse.npz\")\n",
    "        self.articles = sparse.load_npz(\"./Module_data/articles_sparse.npz\")\n",
    "        self.objective = self.articles if objective == \"article\" else self.authors\n",
    "        \n",
    "    def compute_page_rank(self, alpha = 0.9):\n",
    "        graph = nx.from_numpy_array(A=self.objective.toarray(), create_using=nx.DiGraph)\n",
    "        self.pr = nx.pagerank(G=graph, alpha=alpha)\n",
    "        \n",
    "    def compute_hits(self):\n",
    "        graph = nx.from_numpy_array(A=self.objective.toarray(), create_using=nx.DiGraph)\n",
    "        self.hub, self.authority = nx.hits(G=graph) \n",
    "        \n",
    "    def tops_pages(self, k = 10):\n",
    "        return sorted(self.pr.items(),key = lambda x : x[1] , reverse = True)[:k]\n",
    "    \n",
    "    def cal_cites(self):\n",
    "        return np.asarray(np.sum(self.objective,axis = 0)).reshape(-1)\n",
    "    \n",
    "    def top_hubs(self, k = 10):\n",
    "        return sorted(self.hub.items(),key = lambda x : x[1] , reverse = True)[:k]\n",
    "    \n",
    "    def top_auth(self, k = 10):\n",
    "        return sorted(self.authority.items(),key = lambda x : x[1] , reverse = True)[:k]\n",
    "    \n",
    "    def cal_ref(self):\n",
    "        return np.asarray(np.sum(self.objective,axis = 1)).reshape(-1)"
   ]
  },
  {
   "cell_type": "markdown",
   "metadata": {},
   "source": [
    "## articles"
   ]
  },
  {
   "cell_type": "code",
   "execution_count": 5,
   "metadata": {},
   "outputs": [
    {
     "name": "stderr",
     "output_type": "stream",
     "text": [
      "/home/amirhoosein/anaconda3/envs/generalAI/lib/python3.9/site-packages/networkx/algorithms/link_analysis/hits_alg.py:78: FutureWarning: adjacency_matrix will return a scipy.sparse array instead of a matrix in Networkx 3.0.\n",
      "  A = nx.adjacency_matrix(G, nodelist=list(G), dtype=float)\n"
     ]
    }
   ],
   "source": [
    "page_hits_articles = Page_Ranking_Hits(objective = \"article\")\n",
    "page_hits_articles.compute_page_rank(0.9)\n",
    "page_hits_articles.compute_hits()"
   ]
  },
  {
   "cell_type": "markdown",
   "metadata": {},
   "source": [
    "here are 10 top pages that algorithm gave us it's logical to think that the one most cited and refrenced to none will win the game"
   ]
  },
  {
   "cell_type": "code",
   "execution_count": 6,
   "metadata": {},
   "outputs": [
    {
     "data": {
      "text/plain": [
       "[(8, 0.0008656540101637704),\n",
       " (290, 0.0007120085541894802),\n",
       " (36, 0.0006847758695930043),\n",
       " (249, 0.0006323226542710098),\n",
       " (17, 0.000611611449381661),\n",
       " (5, 0.000559734763528736),\n",
       " (525, 0.0005106178948410967),\n",
       " (345, 0.0004920061879285661),\n",
       " (6, 0.0004883780903031131),\n",
       " (540, 0.00046156682881045826)]"
      ]
     },
     "execution_count": 6,
     "metadata": {},
     "output_type": "execute_result"
    }
   ],
   "source": [
    "page_hits_articles.tops_pages(k = 10)"
   ]
  },
  {
   "cell_type": "markdown",
   "metadata": {},
   "source": [
    "you can see here that 8 th article is winner and is in first place it is 67 times cited which is maximum cited article in dataset and also refrenced to no article.\n",
    "so are assumption before is true."
   ]
  },
  {
   "cell_type": "code",
   "execution_count": 7,
   "metadata": {},
   "outputs": [
    {
     "name": "stdout",
     "output_type": "stream",
     "text": [
      "maximum cited graph 67.0\n",
      "index 8 is best page algorithm founded\n",
      "cites of index 8 = 67.0\n",
      "refrences of index 8 = 0.0\n"
     ]
    }
   ],
   "source": [
    "print(f\"maximum cited graph {np.max(page_hits_articles.cal_cites())}\")\n",
    "index = page_hits_articles.tops_pages(k = 10)[0][0]\n",
    "print(f\"index {index} is best page algorithm founded\")\n",
    "print(f\"cites of index {index} = {page_hits_articles.cal_cites()[index]}\")\n",
    "print(f\"refrences of index {index} = {page_hits_articles.cal_ref()[index]}\")"
   ]
  },
  {
   "cell_type": "markdown",
   "metadata": {},
   "source": [
    "for hit algorithm first authority is same as top ranked page but second place and so on are different."
   ]
  },
  {
   "cell_type": "code",
   "execution_count": 8,
   "metadata": {},
   "outputs": [
    {
     "data": {
      "text/plain": [
       "[(8, 0.05899759850735505),\n",
       " (17, 0.03795623787682291),\n",
       " (36, 0.03720893021776358),\n",
       " (6, 0.02921601034711979),\n",
       " (5, 0.027878046189367258),\n",
       " (66, 0.024473872655129555),\n",
       " (32, 0.015517467201476558),\n",
       " (2, 0.01456622186167456),\n",
       " (21, 0.01188781546187709),\n",
       " (185, 0.011025246203961978)]"
      ]
     },
     "execution_count": 8,
     "metadata": {},
     "output_type": "execute_result"
    }
   ],
   "source": [
    "page_hits_articles.top_auth(k = 10)"
   ]
  },
  {
   "cell_type": "code",
   "execution_count": 9,
   "metadata": {},
   "outputs": [
    {
     "name": "stdout",
     "output_type": "stream",
     "text": [
      "maximum authority graph 67.0\n",
      "index 8 is best authority algorithm founded\n",
      "cites of index 8 = 67.0\n",
      "refrences of index 8 = 0.0\n"
     ]
    }
   ],
   "source": [
    "print(f\"maximum authority graph {np.max(page_hits_articles.cal_cites())}\")\n",
    "index = page_hits_articles.top_auth(k = 10)[0][0]\n",
    "print(f\"index {index} is best authority algorithm founded\")\n",
    "print(f\"cites of index {index} = {page_hits_articles.cal_cites()[index]}\")\n",
    "print(f\"refrences of index {index} = {page_hits_articles.cal_ref()[index]}\")"
   ]
  },
  {
   "cell_type": "markdown",
   "metadata": {},
   "source": [
    "for hubs actually because we were told to gather 10 first ones so all nodes ave around 10 auth you would see that numbers assigned to hubs are pretty much close to eachothers"
   ]
  },
  {
   "cell_type": "code",
   "execution_count": 180,
   "metadata": {},
   "outputs": [
    {
     "data": {
      "text/plain": [
       "[(817, 0.016919708701678134),\n",
       " (998, 0.015173367938263075),\n",
       " (305, 0.014741094322541967),\n",
       " (242, 0.014599856211068513),\n",
       " (656, 0.014255014419600932),\n",
       " (4293, 0.013889709665425493),\n",
       " (240, 0.013710600553457642),\n",
       " (955, 0.01355607598659458),\n",
       " (952, 0.01351711024095247),\n",
       " (2506, 0.0132755140670792)]"
      ]
     },
     "execution_count": 180,
     "metadata": {},
     "output_type": "execute_result"
    }
   ],
   "source": [
    "page_hits_articles.top_hubs(k = 10)"
   ]
  },
  {
   "cell_type": "markdown",
   "metadata": {},
   "source": [
    "here you can see that best hub is with 11 refrences and it is cited 0 "
   ]
  },
  {
   "cell_type": "code",
   "execution_count": 10,
   "metadata": {},
   "outputs": [
    {
     "name": "stdout",
     "output_type": "stream",
     "text": [
      "maximum hobs graph 11.0\n",
      "index 817 is best hobs algorithm founded\n",
      "cites of index 817 = 0.0\n",
      "refrences of index 817 = 11.0\n"
     ]
    }
   ],
   "source": [
    "print(f\"maximum hubs graph {np.max(page_hits_articles.cal_ref())}\")\n",
    "index = page_hits_articles.top_hubs(k = 10)[0][0]\n",
    "print(f\"index {index} is best hobs algorithm founded\")\n",
    "print(f\"cites of index {index} = {page_hits_articles.cal_cites()[index]}\")\n",
    "print(f\"refrences of index {index} = {page_hits_articles.cal_ref()[index]}\")"
   ]
  },
  {
   "cell_type": "markdown",
   "metadata": {},
   "source": [
    "## authors\n",
    "here is whole same process for authors\n",
    "notice that authors are weighted graph."
   ]
  },
  {
   "cell_type": "code",
   "execution_count": 11,
   "metadata": {},
   "outputs": [],
   "source": [
    "page_hits_authors = Page_Ranking_Hits(objective = \"authors\")\n",
    "page_hits_authors.compute_page_rank(0.9)\n",
    "page_hits_authors.compute_hits()"
   ]
  },
  {
   "cell_type": "code",
   "execution_count": 12,
   "metadata": {},
   "outputs": [
    {
     "data": {
      "text/plain": [
       "[(125, 0.0013876996913499957),\n",
       " (89, 0.0009782027108704535),\n",
       " (1300, 0.0009569687773095832),\n",
       " (390, 0.0008823641826682489),\n",
       " (1591, 0.0008752411386493033),\n",
       " (61, 0.000769724146590484),\n",
       " (40, 0.0007360523743464498),\n",
       " (719, 0.0007104064236694909),\n",
       " (5, 0.0006863153378455461),\n",
       " (741, 0.0006796511855971072)]"
      ]
     },
     "execution_count": 12,
     "metadata": {},
     "output_type": "execute_result"
    }
   ],
   "source": [
    "page_hits_authors.tops_pages(k = 10)"
   ]
  },
  {
   "cell_type": "code",
   "execution_count": 13,
   "metadata": {},
   "outputs": [
    {
     "name": "stdout",
     "output_type": "stream",
     "text": [
      "maximum cited graph 570.0\n",
      "index 125 is best page algorithm founded\n",
      "cites of index 125 = 570.0\n",
      "refrences of index 125 = 265.0\n"
     ]
    }
   ],
   "source": [
    "print(f\"maximum cited graph {np.max(page_hits_authors.cal_cites())}\")\n",
    "index = page_hits_authors.tops_pages(k = 10)[0][0]\n",
    "print(f\"index {index} is best page algorithm founded\")\n",
    "print(f\"cites of index {index} = {page_hits_authors.cal_cites()[index]}\")\n",
    "print(f\"refrences of index {index} = {page_hits_authors.cal_ref()[index]}\")"
   ]
  },
  {
   "cell_type": "code",
   "execution_count": 14,
   "metadata": {},
   "outputs": [
    {
     "data": {
      "text/plain": [
       "[(125, 0.015249612104948136),\n",
       " (719, 0.012285288174642847),\n",
       " (40, 0.010882592837816734),\n",
       " (1291, 0.009718618171959768),\n",
       " (89, 0.008810532064713258),\n",
       " (741, 0.008132404883454894),\n",
       " (42, 0.007737231355160543),\n",
       " (1173, 0.007628077581311401),\n",
       " (39, 0.007575760369123254),\n",
       " (45, 0.0072182701859336874)]"
      ]
     },
     "execution_count": 14,
     "metadata": {},
     "output_type": "execute_result"
    }
   ],
   "source": [
    "page_hits_authors.top_auth(k = 10)"
   ]
  },
  {
   "cell_type": "code",
   "execution_count": 15,
   "metadata": {},
   "outputs": [
    {
     "name": "stdout",
     "output_type": "stream",
     "text": [
      "maximum authority graph 570.0\n",
      "index 125 is best authority algorithm founded\n",
      "cites of index 125 = 570.0\n",
      "refrences of index 125 = 265.0\n"
     ]
    }
   ],
   "source": [
    "print(f\"maximum authority graph {np.max(page_hits_authors.cal_cites())}\")\n",
    "index = page_hits_authors.top_auth(k = 10)[0][0]\n",
    "print(f\"index {index} is best authority algorithm founded\")\n",
    "print(f\"cites of index {index} = {page_hits_authors.cal_cites()[index]}\")\n",
    "print(f\"refrences of index {index} = {page_hits_authors.cal_ref()[index]}\")"
   ]
  },
  {
   "cell_type": "code",
   "execution_count": 16,
   "metadata": {},
   "outputs": [
    {
     "data": {
      "text/plain": [
       "[(719, 0.014150077507117848),\n",
       " (1291, 0.009556922060991353),\n",
       " (106, 0.009451976304943672),\n",
       " (10, 0.009117263343134759),\n",
       " (1173, 0.008474869913528103),\n",
       " (1172, 0.00675277669131662),\n",
       " (831, 0.006608821366366546),\n",
       " (110, 0.006581395814896911),\n",
       " (147, 0.006510907954792334),\n",
       " (716, 0.006343058702093629)]"
      ]
     },
     "execution_count": 16,
     "metadata": {},
     "output_type": "execute_result"
    }
   ],
   "source": [
    "page_hits_authors.top_hubs(k = 10)"
   ]
  },
  {
   "cell_type": "code",
   "execution_count": 17,
   "metadata": {},
   "outputs": [
    {
     "name": "stdout",
     "output_type": "stream",
     "text": [
      "maximum hobs graph 503.0\n",
      "index 719 is best hobs algorithm founded\n",
      "cites of index 719 = 353.0\n",
      "refrences of index 719 = 389.0\n"
     ]
    }
   ],
   "source": [
    "print(f\"maximum hobs graph {np.max(page_hits_authors.cal_ref())}\")\n",
    "index = page_hits_authors.top_hubs(k = 10)[0][0]\n",
    "print(f\"index {index} is best hobs algorithm founded\")\n",
    "print(f\"cites of index {index} = {page_hits_authors.cal_cites()[index]}\")\n",
    "print(f\"refrences of index {index} = {page_hits_authors.cal_ref()[index]}\")"
   ]
  }
 ],
 "metadata": {
  "interpreter": {
   "hash": "84beb15e057ca0c3811693b28eab1b970102869956d690ca4f596ce5f226a4ad"
  },
  "kernelspec": {
   "display_name": "Python 3 (ipykernel)",
   "language": "python",
   "name": "python3"
  },
  "language_info": {
   "codemirror_mode": {
    "name": "ipython",
    "version": 3
   },
   "file_extension": ".py",
   "mimetype": "text/x-python",
   "name": "python",
   "nbconvert_exporter": "python",
   "pygments_lexer": "ipython3",
   "version": "3.9.12"
  }
 },
 "nbformat": 4,
 "nbformat_minor": 2
}
