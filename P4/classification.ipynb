{
  "cells": [
    {
      "cell_type": "markdown",
      "metadata": {
        "id": "j87oJjNwhTGC"
      },
      "source": [
        "## Amirhossein Bagheri 98105621\n",
        "## Mohammad Sadegh majidi Yazdi  98106004\n",
        "## Amirmahdi kousheshi 98171053\n"
      ]
    },
    {
      "cell_type": "markdown",
      "metadata": {
        "id": "ogE8ICeLMN0u"
      },
      "source": [
        "# data preprocess\n",
        "in the preprocess file which name is pre_process.ipynb\n",
        "we ran the preprocess part and result is cs.csv\n",
        "\n",
        "#### note that for labels our dataset was multi label for each item and here is how we reduced it to 1 label for each item\n",
        "\n",
        "+ we could use most frequent label for each item but we chosed more challenging method that we used least frequent label for reducing multi label to one label.\n",
        "\n",
        "\n",
        "### make sure you have ran preprocess.ipynb if you want to rerun notebook.\n",
        "you need to have arxiv_data_210930-054931.csv.zip put in DATA folder\n",
        "then run preprocess.ipynb then in ./DATA/Module_data folder you will find cs.csv\n",
        "and copy next to this notebook. "
      ]
    },
    {
      "cell_type": "code",
      "execution_count": 66,
      "metadata": {
        "colab": {
          "base_uri": "https://localhost:8080/"
        },
        "id": "vJ1qHJQP8l-a",
        "outputId": "00f0d65f-9ccb-4daa-f0c2-f77b71e7ba3f"
      },
      "outputs": [
        {
          "output_type": "stream",
          "name": "stdout",
          "text": [
            "Looking in indexes: https://pypi.org/simple, https://us-python.pkg.dev/colab-wheels/public/simple/\n",
            "Requirement already satisfied: sentence-transformers in /usr/local/lib/python3.7/dist-packages (2.2.2)\n",
            "Requirement already satisfied: scikit-learn in /usr/local/lib/python3.7/dist-packages (from sentence-transformers) (1.0.2)\n",
            "Requirement already satisfied: numpy in /usr/local/lib/python3.7/dist-packages (from sentence-transformers) (1.21.6)\n",
            "Requirement already satisfied: torch>=1.6.0 in /usr/local/lib/python3.7/dist-packages (from sentence-transformers) (1.11.0+cu113)\n",
            "Requirement already satisfied: scipy in /usr/local/lib/python3.7/dist-packages (from sentence-transformers) (1.4.1)\n",
            "Requirement already satisfied: sentencepiece in /usr/local/lib/python3.7/dist-packages (from sentence-transformers) (0.1.96)\n",
            "Requirement already satisfied: nltk in /usr/local/lib/python3.7/dist-packages (from sentence-transformers) (3.7)\n",
            "Requirement already satisfied: transformers<5.0.0,>=4.6.0 in /usr/local/lib/python3.7/dist-packages (from sentence-transformers) (4.20.1)\n",
            "Requirement already satisfied: huggingface-hub>=0.4.0 in /usr/local/lib/python3.7/dist-packages (from sentence-transformers) (0.8.1)\n",
            "Requirement already satisfied: torchvision in /usr/local/lib/python3.7/dist-packages (from sentence-transformers) (0.12.0+cu113)\n",
            "Requirement already satisfied: tqdm in /usr/local/lib/python3.7/dist-packages (from sentence-transformers) (4.64.0)\n",
            "Requirement already satisfied: requests in /usr/local/lib/python3.7/dist-packages (from huggingface-hub>=0.4.0->sentence-transformers) (2.23.0)\n",
            "Requirement already satisfied: packaging>=20.9 in /usr/local/lib/python3.7/dist-packages (from huggingface-hub>=0.4.0->sentence-transformers) (21.3)\n",
            "Requirement already satisfied: importlib-metadata in /usr/local/lib/python3.7/dist-packages (from huggingface-hub>=0.4.0->sentence-transformers) (4.11.4)\n",
            "Requirement already satisfied: pyyaml>=5.1 in /usr/local/lib/python3.7/dist-packages (from huggingface-hub>=0.4.0->sentence-transformers) (6.0)\n",
            "Requirement already satisfied: typing-extensions>=3.7.4.3 in /usr/local/lib/python3.7/dist-packages (from huggingface-hub>=0.4.0->sentence-transformers) (4.1.1)\n",
            "Requirement already satisfied: filelock in /usr/local/lib/python3.7/dist-packages (from huggingface-hub>=0.4.0->sentence-transformers) (3.7.1)\n",
            "Requirement already satisfied: pyparsing!=3.0.5,>=2.0.2 in /usr/local/lib/python3.7/dist-packages (from packaging>=20.9->huggingface-hub>=0.4.0->sentence-transformers) (3.0.9)\n",
            "Requirement already satisfied: regex!=2019.12.17 in /usr/local/lib/python3.7/dist-packages (from transformers<5.0.0,>=4.6.0->sentence-transformers) (2022.6.2)\n",
            "Requirement already satisfied: tokenizers!=0.11.3,<0.13,>=0.11.1 in /usr/local/lib/python3.7/dist-packages (from transformers<5.0.0,>=4.6.0->sentence-transformers) (0.12.1)\n",
            "Requirement already satisfied: zipp>=0.5 in /usr/local/lib/python3.7/dist-packages (from importlib-metadata->huggingface-hub>=0.4.0->sentence-transformers) (3.8.0)\n",
            "Requirement already satisfied: joblib in /usr/local/lib/python3.7/dist-packages (from nltk->sentence-transformers) (1.1.0)\n",
            "Requirement already satisfied: click in /usr/local/lib/python3.7/dist-packages (from nltk->sentence-transformers) (7.1.2)\n",
            "Requirement already satisfied: idna<3,>=2.5 in /usr/local/lib/python3.7/dist-packages (from requests->huggingface-hub>=0.4.0->sentence-transformers) (2.10)\n",
            "Requirement already satisfied: chardet<4,>=3.0.2 in /usr/local/lib/python3.7/dist-packages (from requests->huggingface-hub>=0.4.0->sentence-transformers) (3.0.4)\n",
            "Requirement already satisfied: urllib3!=1.25.0,!=1.25.1,<1.26,>=1.21.1 in /usr/local/lib/python3.7/dist-packages (from requests->huggingface-hub>=0.4.0->sentence-transformers) (1.24.3)\n",
            "Requirement already satisfied: certifi>=2017.4.17 in /usr/local/lib/python3.7/dist-packages (from requests->huggingface-hub>=0.4.0->sentence-transformers) (2022.6.15)\n",
            "Requirement already satisfied: threadpoolctl>=2.0.0 in /usr/local/lib/python3.7/dist-packages (from scikit-learn->sentence-transformers) (3.1.0)\n",
            "Requirement already satisfied: pillow!=8.3.*,>=5.3.0 in /usr/local/lib/python3.7/dist-packages (from torchvision->sentence-transformers) (7.1.2)\n"
          ]
        }
      ],
      "source": [
        "pip install -U sentence-transformers\n"
      ]
    },
    {
      "cell_type": "markdown",
      "metadata": {
        "id": "utredorHSzFn"
      },
      "source": [
        "+ note that matplotlib version is important"
      ]
    },
    {
      "cell_type": "markdown",
      "metadata": {
        "id": "Y-s7JnbKaBZQ"
      },
      "source": [
        "+ install pretty-confusion-matrix for better evaluation"
      ]
    },
    {
      "cell_type": "markdown",
      "metadata": {
        "id": "bk6YvnWHaJiU"
      },
      "source": [
        "## I mount my google drive because i run it in colab if you want to run it on your PC you have to run preprocess again and then put cs.csv next to this note book."
      ]
    },
    {
      "cell_type": "code",
      "execution_count": 67,
      "metadata": {
        "colab": {
          "base_uri": "https://localhost:8080/"
        },
        "id": "Xex1kb_e929b",
        "outputId": "1db605d5-2f22-4986-dd40-3fc2a95fa7d5"
      },
      "outputs": [
        {
          "output_type": "stream",
          "name": "stdout",
          "text": [
            "Drive already mounted at /content/drive; to attempt to forcibly remount, call drive.mount(\"/content/drive\", force_remount=True).\n"
          ]
        }
      ],
      "source": [
        "from google.colab import drive\n",
        "drive.mount('/content/drive')\n"
      ]
    },
    {
      "cell_type": "code",
      "execution_count": 68,
      "metadata": {
        "id": "1wsLvEkr-FxG"
      },
      "outputs": [],
      "source": [
        "!cp /content/drive/MyDrive/IR/cs.csv ./"
      ]
    },
    {
      "cell_type": "code",
      "execution_count": 69,
      "metadata": {
        "id": "hZLYZX7a8XG9"
      },
      "outputs": [],
      "source": [
        "import pandas as pd\n",
        "import json\n",
        "import sklearn\n",
        "from sentence_transformers import SentenceTransformer\n",
        "import numpy as np\n",
        "from sklearn.cluster import KMeans\n",
        "from sklearn.pipeline import Pipeline\n",
        "import matplotlib.pyplot as plt\n",
        "import pandas as pd\n",
        "import seaborn as sns\n",
        "from mpl_toolkits.mplot3d import Axes3D\n",
        "from matplotlib import pyplot as plt\n",
        "from mpl_toolkits.mplot3d import Axes3D\n",
        "from matplotlib.colors import ListedColormap\n",
        "from sklearn.decomposition import PCA\n",
        "import matplotlib.pyplot as plt\n",
        "import numpy as np\n",
        "from sklearn.mixture import GaussianMixture\n",
        "from collections import Counter\n",
        "from collections import defaultdict\n",
        "from sklearn.discriminant_analysis import LinearDiscriminantAnalysis\n",
        "from sklearn.manifold import TSNE\n",
        "from sklearn.metrics import *\n",
        "from sklearn.feature_extraction.text import TfidfVectorizer\n",
        "from sklearn.model_selection import cross_validate\n",
        "from sklearn.model_selection import train_test_split"
      ]
    },
    {
      "cell_type": "markdown",
      "metadata": {
        "id": "U453Bpf-aqFD"
      },
      "source": [
        "## loading models\n",
        "+ we have to model one that representations vectors are from tf-idf and the other one that they are from bert model\n"
      ]
    },
    {
      "cell_type": "code",
      "execution_count": 70,
      "metadata": {
        "id": "bzbOm2wDP_Va"
      },
      "outputs": [],
      "source": [
        "bert_model = SentenceTransformer(\"all-MiniLM-L6-v2\")\n",
        "vectorizer_bastract = TfidfVectorizer()\n",
        "csv_data = pd.read_csv(\"cs.csv\")\n",
        "flatten = lambda label : [item for l in label for item in l]"
      ]
    },
    {
      "cell_type": "markdown",
      "metadata": {
        "id": "zQR4bsRDao37"
      },
      "source": [
        "## loading data and reduce multi labels to single labels\n",
        "\n",
        "+ as i said we chose more challenging part if you look at labels occurrence you would fint that here\n",
        "```py\n",
        "print(Counter(flatten(label)))\n",
        ">>>\n",
        "Counter({0: 10925, 1: 7903, 2: 6171, 3: 1546, 4: 1112})\n",
        "```\n",
        "this means that for multi label items if we choose max we are choosing lower repeated label.\n",
        "here is result then\n",
        "```py\n",
        "reduced_labeling = [max(l) for l in label]\n",
        "count = Counter(reduced_labeling)\n",
        ">>>\n",
        "Counter({2: 5470, 1: 4619, 3: 1527, 4: 1112})\n",
        "```\n",
        "now every object has one label and 4 labels exist in dataset.\n",
        "\n",
        "\n",
        "\n"
      ]
    },
    {
      "cell_type": "code",
      "execution_count": 71,
      "metadata": {
        "colab": {
          "base_uri": "https://localhost:8080/"
        },
        "id": "t9ClWM2-81gG",
        "outputId": "52952d6f-1f6e-48ff-cff9-97d8a6c5bef7"
      },
      "outputs": [
        {
          "output_type": "stream",
          "name": "stdout",
          "text": [
            "Counter({0: 10925, 1: 7903, 2: 6171, 3: 1546, 4: 1112})\n",
            "Counter({2: 5470, 1: 4619, 3: 1527, 4: 1112})\n"
          ]
        }
      ],
      "source": [
        "\n",
        "data_title = [row[\"titles\"] for idx,row in csv_data.iterrows()]\n",
        "data_abstract = [row[\"abstracts\"] for idx,row in csv_data.iterrows()]\n",
        "label =  [list(map(int,row[\"terms\"].replace(\"[\",\"\").replace(\"]\",\"\").split(\",\"))) for idx,row in csv_data.iterrows()]\n",
        "print(Counter(flatten(label)))\n",
        "reduced_labeling = [max(l) for l in label]\n",
        "count = Counter(reduced_labeling)\n",
        "N_COMPONENT = 3*len(count)\n",
        "# sorted_c = sorted([item for item in count.items()],key = lambda x : x[1] , reversed = True)\n",
        "print(count)\n",
        "reduced_labeling = np.array(reduced_labeling)"
      ]
    },
    {
      "cell_type": "markdown",
      "metadata": {
        "id": "0SBjhF3vb9YW"
      },
      "source": [
        "## plot functions and mapping\n",
        "two funtion \n",
        "```py\n",
        "def show_data(data,y,title)\n",
        "def show3D(X,predicted_label,title)\n",
        "```\n",
        "are for ploting data in 2d and 3d\n",
        "+ for every clustring part here we would choose label for each cluster by most repeated orginal label in that cluster. function bellow take and array of predicted label by clustering and map each label to original label in data set by measure of most repeated label in each cluster.\n",
        "```py\n",
        "def find_mapping_for_cluster(pre):\n",
        "  map = defaultdict(lambda : [0 for i in range(N_COMPONENT + 2)])\n",
        "  for i in range(len(pre)):\n",
        "    map[pre[i]][reduced_labeling[i]] += 1\n",
        "  return {k : np.argmax(map[k]) for k in map}\n",
        "```\n"
      ]
    },
    {
      "cell_type": "code",
      "execution_count": 86,
      "metadata": {
        "id": "Nl4QR5akP0oA"
      },
      "outputs": [],
      "source": [
        "from sklearn.metrics import multilabel_confusion_matrix\n",
        "import seaborn as sn\n",
        "from sklearn.metrics import classification_report\n",
        "from sklearn.metrics import f1_score,recall_score,precision_score\n",
        "# def show_data(data,y,title):\n",
        "#     arr = np.concatenate((data,y),axis= 1)\n",
        "#     df = pd.DataFrame(data = arr, \n",
        "#                   index = range(len(y)), \n",
        "#                   columns = [\"X\",\"Y\",\"label\"])\n",
        "#     fig  = plt.figure(figsize=(18,12))\n",
        "#     cmap = sns.color_palette(\"bright\", len(Counter(y.reshape(-1)))).as_hex()\n",
        "#     sns.scatterplot(data=df, x=\"X\", y=\"Y\", hue=\"label\" ,legend='full',palette = cmap)\n",
        "#     plt.title(title)\n",
        "#     plt.show()\n",
        "# def show3D(X,predicted_label,title):\n",
        "#   x = X[0]\n",
        "#   y = X[1]\n",
        "#   z = X[2]\n",
        "#   label = predicted_label\n",
        "#   fig  = plt.figure(figsize=(18,12))\n",
        "#   ax = fig.gca(projection='3d')\n",
        "#   cmap = ListedColormap(sns.color_palette(\"bright\", len(Counter(predicted_label))).as_hex())\n",
        "#   sc = ax.scatter(x, y, z, s=20, c=label, marker='o', cmap=cmap, alpha=1)\n",
        "#   plt.legend(*sc.legend_elements(), bbox_to_anchor=(1, 1), loc=2)\n",
        "#   plt.title(title)\n",
        "#   plt.show()\n",
        "def confusion_matrix_show(y_test,y_pred,labels,title):\n",
        "  cm = confusion_matrix(y_test, y_pred)\n",
        "  class_names = [f\"class {i}\" for i in range(max( len(set(y_test)), len(set(y_pred))))]\n",
        "  fig = plt.figure(figsize=(16, 14))\n",
        "  ax= plt.subplot()\n",
        "  sns.heatmap(cm, annot=True, ax = ax, fmt = 'g'); #annot=True to annotate cells\n",
        "  ax.set_xlabel('Predicted', fontsize=20)\n",
        "  ax.xaxis.set_label_position('bottom')\n",
        "  plt.xticks(rotation=90)\n",
        "  ax.xaxis.set_ticklabels(class_names, fontsize = 10)\n",
        "  ax.xaxis.tick_bottom()\n",
        "  ax.set_ylabel('True', fontsize=20)\n",
        "  ax.yaxis.set_ticklabels(class_names, fontsize = 10)\n",
        "  plt.yticks(rotation=0)\n",
        "  plt.title(title, fontsize=20)\n",
        "  plt.show()\n",
        "  print(\"macro f1_score for \"+title+\" is :{}%\".format(f1_score(y_true=y_test , y_pred= y_pred , average = \"macro\")))\n",
        "  print(\"micro f1_score for \"+title+\" is :{}%\".format(f1_score(y_true=y_test , y_pred= y_pred , average = \"micro\")))\n",
        "  print(\"weighted f1_score for \"+title+\" is :{}%\".format(f1_score(y_true=y_test , y_pred= y_pred , average = \"weighted\")))\n",
        "  print()\n",
        "  print(\"macro recall_score for \"+title+\" is :{}%\".format(recall_score(y_true=y_test , y_pred= y_pred , average = \"macro\")))\n",
        "  print(\"micro recall_score for \"+title+\" is :{}%\".format(recall_score(y_true=y_test , y_pred= y_pred , average = \"micro\")))\n",
        "  print(\"weighted recall_score for \"+title+\" is :{}%\".format(recall_score(y_true=y_test , y_pred= y_pred , average = \"weighted\")))\n",
        "  print()\n",
        "  print(\"macro precision_score for \"+title+\" is :{}%\".format(precision_score(y_true=y_test , y_pred= y_pred , average = \"macro\")))\n",
        "  print(\"micro precision_score for \"+title+\" is :{}%\".format(precision_score(y_true=y_test , y_pred= y_pred , average = \"micro\")))\n",
        "  print(\"weighted precision_score for \"+title+\" is :{}%\".format(precision_score(y_true=y_test , y_pred= y_pred , average = \"weighted\")))\n",
        "  print()\n",
        "  print(classification_report(y_test, y_pred, target_names= class_names))\n"
      ]
    },
    {
      "cell_type": "code",
      "execution_count": 72,
      "metadata": {
        "id": "CHtnjG2zKZWV"
      },
      "outputs": [],
      "source": [
        ""
      ]
    },
    {
      "cell_type": "markdown",
      "metadata": {
        "id": "dQRedPHbctkK"
      },
      "source": [
        "## convert text data to vector embedding for both bert and tf-idf\n",
        "here we convert text data to vectors for both tf-idf and bert\n",
        "for bert we concat title vector and abstract vector \n",
        "```py\n",
        "concated_data_bert = np.array([np.array([abstract_bert[i],titles_bert[i]]).reshape(-1) for i in range((abstract_bert.shape[0]))])\n",
        "\n",
        "```\n",
        "and for tf-idf we have abstract we didn't concat title because it is sparse matrix and convert it to ndarray will cause ram die"
      ]
    },
    {
      "cell_type": "code",
      "execution_count": 73,
      "metadata": {
        "id": "iMQjuGy1_iQu"
      },
      "outputs": [],
      "source": [
        "abstract_bert = bert_model.encode(data_abstract,device = \"cuda\")\n",
        "titles_bert = bert_model.encode(data_title,device = \"cuda\")"
      ]
    },
    {
      "cell_type": "code",
      "execution_count": 74,
      "metadata": {
        "id": "ZgbRS8P5mRgz"
      },
      "outputs": [],
      "source": [
        "tf_idf_data = [data_title[i] + \" : \" + data_abstract[i] for i in range(len(data_abstract))]\n",
        "tf_idf_vec = vectorizer_bastract.fit_transform(tf_idf_data)"
      ]
    },
    {
      "cell_type": "code",
      "execution_count": 75,
      "metadata": {
        "id": "wL7wMsIjHw55"
      },
      "outputs": [],
      "source": [
        "concated_data_bert = np.array([np.array([abstract_bert[i],titles_bert[i]]).reshape(-1) for i in range((abstract_bert.shape[0]))])"
      ]
    },
    {
      "cell_type": "markdown",
      "metadata": {
        "id": "9J-T2uECdn24"
      },
      "source": [
        "## Linear Disrciminative feature extraction and classification\n",
        "\n",
        "\n"
      ]
    },
    {
      "cell_type": "markdown",
      "metadata": {
        "id": "ApESQ2h2d5MG"
      },
      "source": [
        "### LDA for bert embedding"
      ]
    },
    {
      "cell_type": "code",
      "execution_count": 87,
      "metadata": {
        "id": "JF3gHSJvPisG",
        "colab": {
          "base_uri": "https://localhost:8080/",
          "height": 1000
        },
        "outputId": "6e43725d-6e80-4b57-d052-af6d87647b5a"
      },
      "outputs": [
        {
          "output_type": "display_data",
          "data": {
            "text/plain": [
              "<Figure size 1152x1008 with 2 Axes>"
            ],
            "image/png": "[encoded data removed]"
          },
          "metadata": {
            "needs_background": "light"
          }
        },
        {
          "output_type": "stream",
          "name": "stdout",
          "text": [
            "macro f1_score for LDA for bert is :0.6951362942004307%\n",
            "micro f1_score for LDA for bert is :0.6851924587588374%\n",
            "weighted f1_score for LDA for bert is :0.6847167461287206%\n",
            "\n",
            "macro recall_score for LDA for bert is :0.7027089677558872%\n",
            "micro recall_score for LDA for bert is :0.6851924587588374%\n",
            "weighted recall_score for LDA for bert is :0.6851924587588374%\n",
            "\n",
            "macro precision_score for LDA for bert is :0.6889717458740227%\n",
            "micro precision_score for LDA for bert is :0.6851924587588374%\n",
            "weighted precision_score for LDA for bert is :0.6857017266705517%\n",
            "\n",
            "              precision    recall  f1-score   support\n",
            "\n",
            "     class 0       0.67      0.71      0.69      1879\n",
            "     class 1       0.70      0.65      0.67      2142\n",
            "     class 2       0.66      0.67      0.67       616\n",
            "     class 3       0.72      0.79      0.75       455\n",
            "\n",
            "    accuracy                           0.69      5092\n",
            "   macro avg       0.69      0.70      0.70      5092\n",
            "weighted avg       0.69      0.69      0.68      5092\n",
            "\n"
          ]
        }
      ],
      "source": [
        "lda = LinearDiscriminantAnalysis(n_components = len(set(reduced_labeling))-1)\n",
        "X_train, X_test, y_train, y_test = train_test_split(concated_data_bert, reduced_labeling, test_size=0.4, random_state=0)\n",
        "lda.fit(X_train,y_train)\n",
        "y_pred = lda.predict(X_test)\n",
        "confusion_matrix_show(y_test, y_pred,lda.classes_,\"LDA for bert\")"
      ]
    },
    {
      "cell_type": "markdown",
      "source": [
        "### LDA for tf-idf"
      ],
      "metadata": {
        "id": "sP2sMqPiUJzE"
      }
    },
    {
      "cell_type": "code",
      "source": [
        "lda = LinearDiscriminantAnalysis(n_components = len(set(reduced_labeling))-1)\n",
        "X_train, X_test, y_train, y_test = train_test_split(tf_idf_vec, reduced_labeling, test_size=0.4, random_state=0)\n",
        "lda.fit(X_train.toarray(),y_train)\n",
        "y_pred = lda.predict(X_test.toarray())\n",
        "confusion_matrix_show(y_test, y_pred,lda.classes_,\"LDA for tf-idf\")"
      ],
      "metadata": {
        "id": "bLz6UGtHTSog"
      },
      "execution_count": null,
      "outputs": []
    }
  ],
  "metadata": {
    "accelerator": "GPU",
    "colab": {
      "collapsed_sections": [],
      "name": "classification.ipynb",
      "provenance": []
    },
    "kernelspec": {
      "display_name": "Python 3 (ipykernel)",
      "language": "python",
      "name": "python3"
    },
    "language_info": {
      "codemirror_mode": {
        "name": "ipython",
        "version": 3
      },
      "file_extension": ".py",
      "mimetype": "text/x-python",
      "name": "python",
      "nbconvert_exporter": "python",
      "pygments_lexer": "ipython3",
      "version": "3.9.12"
    }
  },
  "nbformat": 4,
  "nbformat_minor": 0
}