{
 "cells": [
  {
   "cell_type": "code",
   "execution_count": 1,
   "metadata": {
    "colab": {
     "base_uri": "https://localhost:8080/"
    },
    "id": "eWeNTnQz6zgq",
    "outputId": "9f4401bf-227b-465a-d466-7a7c8790290b"
   },
   "outputs": [
    {
     "name": "stdout",
     "output_type": "stream",
     "text": [
      "Collecting sentence-transformers\n",
      "  Downloading sentence-transformers-2.2.0.tar.gz (79 kB)\n",
      "\u001b[K     |████████████████████████████████| 79 kB 268 kB/s eta 0:00:01\n",
      "\u001b[?25hCollecting transformers<5.0.0,>=4.6.0\n",
      "  Downloading transformers-4.19.2-py3-none-any.whl (4.2 MB)\n",
      "\u001b[K     |████████████████████████████████| 4.2 MB 829 kB/s eta 0:00:01\n",
      "\u001b[?25hRequirement already satisfied: tqdm in /home/amirhoosein/anaconda3/envs/generalAI/lib/python3.9/site-packages (from sentence-transformers) (4.64.0)\n",
      "Requirement already satisfied: torch>=1.6.0 in /home/amirhoosein/anaconda3/envs/generalAI/lib/python3.9/site-packages (from sentence-transformers) (1.7.1)\n",
      "Requirement already satisfied: torchvision in /home/amirhoosein/anaconda3/envs/generalAI/lib/python3.9/site-packages (from sentence-transformers) (0.8.0a0)\n",
      "Requirement already satisfied: numpy in /home/amirhoosein/anaconda3/envs/generalAI/lib/python3.9/site-packages (from sentence-transformers) (1.22.0)\n",
      "Requirement already satisfied: scikit-learn in /home/amirhoosein/anaconda3/envs/generalAI/lib/python3.9/site-packages (from sentence-transformers) (1.0.2)\n",
      "Requirement already satisfied: scipy in /home/amirhoosein/anaconda3/envs/generalAI/lib/python3.9/site-packages (from sentence-transformers) (1.6.2)\n",
      "Requirement already satisfied: nltk in /home/amirhoosein/anaconda3/envs/generalAI/lib/python3.9/site-packages (from sentence-transformers) (3.3)\n",
      "Collecting sentencepiece\n",
      "  Downloading sentencepiece-0.1.96-cp39-cp39-manylinux_2_17_x86_64.manylinux2014_x86_64.whl (1.2 MB)\n",
      "\u001b[K     |████████████████████████████████| 1.2 MB 841 kB/s eta 0:00:01\n",
      "\u001b[?25hCollecting huggingface-hub\n",
      "  Downloading huggingface_hub-0.7.0-py3-none-any.whl (86 kB)\n",
      "\u001b[K     |████████████████████████████████| 86 kB 959 kB/s eta 0:00:01\n",
      "\u001b[?25hRequirement already satisfied: typing-extensions in /home/amirhoosein/anaconda3/envs/generalAI/lib/python3.9/site-packages (from torch>=1.6.0->sentence-transformers) (4.1.1)\n",
      "Collecting tokenizers!=0.11.3,<0.13,>=0.11.1\n",
      "  Downloading tokenizers-0.12.1-cp39-cp39-manylinux_2_12_x86_64.manylinux2010_x86_64.whl (6.6 MB)\n",
      "\u001b[K     |████████████████████████████████| 6.6 MB 115 kB/s eta 0:00:01\n",
      "\u001b[?25hRequirement already satisfied: pyyaml>=5.1 in /home/amirhoosein/anaconda3/envs/generalAI/lib/python3.9/site-packages (from transformers<5.0.0,>=4.6.0->sentence-transformers) (6.0)\n",
      "Requirement already satisfied: packaging>=20.0 in /home/amirhoosein/anaconda3/envs/generalAI/lib/python3.9/site-packages (from transformers<5.0.0,>=4.6.0->sentence-transformers) (21.3)\n",
      "Collecting regex!=2019.12.17\n",
      "  Downloading regex-2022.6.2-cp39-cp39-manylinux_2_17_x86_64.manylinux2014_x86_64.whl (763 kB)\n",
      "\u001b[K     |████████████████████████████████| 763 kB 846 kB/s eta 0:00:01\n",
      "\u001b[?25hRequirement already satisfied: requests in /home/amirhoosein/anaconda3/envs/generalAI/lib/python3.9/site-packages (from transformers<5.0.0,>=4.6.0->sentence-transformers) (2.27.1)\n",
      "Collecting filelock\n",
      "  Downloading filelock-3.7.1-py3-none-any.whl (10 kB)\n",
      "Requirement already satisfied: pyparsing!=3.0.5,>=2.0.2 in /home/amirhoosein/anaconda3/envs/generalAI/lib/python3.9/site-packages (from packaging>=20.0->transformers<5.0.0,>=4.6.0->sentence-transformers) (3.0.4)\n",
      "Requirement already satisfied: six in /home/amirhoosein/anaconda3/envs/generalAI/lib/python3.9/site-packages (from nltk->sentence-transformers) (1.15.0)\n",
      "Requirement already satisfied: certifi>=2017.4.17 in /home/amirhoosein/anaconda3/envs/generalAI/lib/python3.9/site-packages (from requests->transformers<5.0.0,>=4.6.0->sentence-transformers) (2022.5.18.1)\n",
      "Requirement already satisfied: idna<4,>=2.5 in /home/amirhoosein/anaconda3/envs/generalAI/lib/python3.9/site-packages (from requests->transformers<5.0.0,>=4.6.0->sentence-transformers) (3.3)\n",
      "Requirement already satisfied: charset-normalizer~=2.0.0 in /home/amirhoosein/anaconda3/envs/generalAI/lib/python3.9/site-packages (from requests->transformers<5.0.0,>=4.6.0->sentence-transformers) (2.0.4)\n",
      "Requirement already satisfied: urllib3<1.27,>=1.21.1 in /home/amirhoosein/anaconda3/envs/generalAI/lib/python3.9/site-packages (from requests->transformers<5.0.0,>=4.6.0->sentence-transformers) (1.26.9)\n",
      "Requirement already satisfied: joblib>=0.11 in /home/amirhoosein/anaconda3/envs/generalAI/lib/python3.9/site-packages (from scikit-learn->sentence-transformers) (1.1.0)\n",
      "Requirement already satisfied: threadpoolctl>=2.0.0 in /home/amirhoosein/anaconda3/envs/generalAI/lib/python3.9/site-packages (from scikit-learn->sentence-transformers) (3.0.0)\n",
      "Requirement already satisfied: pillow>=4.1.1 in /home/amirhoosein/anaconda3/envs/generalAI/lib/python3.9/site-packages (from torchvision->sentence-transformers) (9.0.1)\n",
      "Building wheels for collected packages: sentence-transformers\n",
      "  Building wheel for sentence-transformers (setup.py) ... \u001b[?25ldone\n",
      "\u001b[?25h  Created wheel for sentence-transformers: filename=sentence_transformers-2.2.0-py3-none-any.whl size=120751 sha256=1c95898d625de9a5578b6acf075ad7ac17ec1b39b7cadfd177c04fdea575b51f\n",
      "  Stored in directory: /home/amirhoosein/.cache/pip/wheels/2b/11/3b/32a18fb9f2253b25d3d1a06f0a84e2d516e7efa19c8c71a283\n",
      "Successfully built sentence-transformers\n",
      "Installing collected packages: filelock, tokenizers, regex, huggingface-hub, transformers, sentencepiece, sentence-transformers\n",
      "Successfully installed filelock-3.7.1 huggingface-hub-0.7.0 regex-2022.6.2 sentence-transformers-2.2.0 sentencepiece-0.1.96 tokenizers-0.12.1 transformers-4.19.2\n",
      "Note: you may need to restart the kernel to use updated packages.\n"
     ]
    }
   ],
   "source": [
    "pip install -U sentence-transformers"
   ]
  },
  {
   "cell_type": "markdown",
   "metadata": {},
   "source": [
    "### make sure you have run ./DATA/preprocess.ipynb first \n",
    "### make sure you have installed pip install -U sentence-transformers\n",
    "### make sure for first time you run \n",
    "```\n",
    "transformer = Transformer(\"all-MiniLM-L12-v2\")\n",
    "transformer.preprocess(False)\n",
    "```"
   ]
  },
  {
   "cell_type": "code",
   "execution_count": 3,
   "metadata": {
    "id": "r0cRGDCl_7rA"
   },
   "outputs": [],
   "source": [
    "import json\n",
    "import numpy as np\n",
    "from scipy.spatial import distance\n",
    "from sentence_transformers import SentenceTransformer\n"
   ]
  },
  {
   "cell_type": "code",
   "execution_count": 4,
   "metadata": {
    "id": "d_l7CIKv9O-g"
   },
   "outputs": [],
   "source": [
    "source = \"./\"\n",
    "f_source = lambda s : source+\"/\"+s\n",
    "class Transformer:\n",
    "  def __init__(self,model_name = 'all-MiniLM-L6-v2'):\n",
    "    print(f\"downloading model {model_name}\")\n",
    "    self.model = SentenceTransformer(model_name)\n",
    "    self.documents = json.load(open(f_source(\"DATA/crawler/data/NLP.json\"),\"r\"))\n",
    "    self.representation = None\n",
    "  \n",
    "  def preprocess(self,pre_use = False):\n",
    "    if not pre_use:\n",
    "      docs = []\n",
    "      keys = []\n",
    "      print(f\"creating representation for docs\")\n",
    "      for key in self.documents:\n",
    "        abstract = self.documents[key][\"abstract\"]\n",
    "        if type(abstract) == str:\n",
    "          docs.append(abstract)\n",
    "          keys.append(key)\n",
    "      embeddings = self.model.encode(docs)\n",
    "      self.representation = {}\n",
    "      for key, embedding in zip(keys, embeddings):\n",
    "        self.representation[key] = embedding.tolist()\n",
    "      addr = f_source(\"DATA/Module_data/transformer.json\")\n",
    "      print(f\"saving docs_rep in {addr}\")\n",
    "      open(addr,\"w\").write(json.dumps(self.representation))\n",
    "    print(f\"loading docs_rep\")\n",
    "    self.representation = json.load(open(f_source(\"DATA/Module_data/transformer.json\"),\"r\"))\n",
    "    self.representation = {key : np.array(self.representation[key]) for key in self.representation }\n",
    "  def query(self,input_str:str , k = 10):\n",
    "    q = self.model.encode(input_str)\n",
    "    article_id = sorted([(key,np.abs(distance.cosine(q,self.representation[key]))) for key in self.representation],key = lambda x : x[1])[:k]\n",
    "    article =  [self.documents[id[0]] for id in article_id]\n",
    "    return (article_id,article)\n",
    "\n"
   ]
  },
  {
   "cell_type": "code",
   "execution_count": 5,
   "metadata": {
    "colab": {
     "base_uri": "https://localhost:8080/"
    },
    "id": "tJy_aexHBKbx",
    "outputId": "229f0985-13be-4cea-e30d-b478e97aecac"
   },
   "outputs": [
    {
     "name": "stdout",
     "output_type": "stream",
     "text": [
      "downloading model all-MiniLM-L12-v2\n"
     ]
    },
    {
     "data": {
      "application/vnd.jupyter.widget-view+json": {
       "model_id": "eeba6d0a3dbb4211b4bf796a98a2af8b",
       "version_major": 2,
       "version_minor": 0
      },
      "text/plain": [
       "Downloading:   0%|          | 0.00/1.18k [00:00<?, ?B/s]"
      ]
     },
     "metadata": {},
     "output_type": "display_data"
    },
    {
     "data": {
      "application/vnd.jupyter.widget-view+json": {
       "model_id": "602135193aba4019b67e81c62ecfb0ef",
       "version_major": 2,
       "version_minor": 0
      },
      "text/plain": [
       "Downloading:   0%|          | 0.00/190 [00:00<?, ?B/s]"
      ]
     },
     "metadata": {},
     "output_type": "display_data"
    },
    {
     "data": {
      "application/vnd.jupyter.widget-view+json": {
       "model_id": "f758033f641f47689ebfae7e7a4fa694",
       "version_major": 2,
       "version_minor": 0
      },
      "text/plain": [
       "Downloading:   0%|          | 0.00/10.2k [00:00<?, ?B/s]"
      ]
     },
     "metadata": {},
     "output_type": "display_data"
    },
    {
     "data": {
      "application/vnd.jupyter.widget-view+json": {
       "model_id": "93dbd085e18c46ecb32c73a1ab2caefc",
       "version_major": 2,
       "version_minor": 0
      },
      "text/plain": [
       "Downloading:   0%|          | 0.00/573 [00:00<?, ?B/s]"
      ]
     },
     "metadata": {},
     "output_type": "display_data"
    },
    {
     "data": {
      "application/vnd.jupyter.widget-view+json": {
       "model_id": "ec8f388b99a34daab59bddf1d14bd4c7",
       "version_major": 2,
       "version_minor": 0
      },
      "text/plain": [
       "Downloading:   0%|          | 0.00/116 [00:00<?, ?B/s]"
      ]
     },
     "metadata": {},
     "output_type": "display_data"
    },
    {
     "data": {
      "application/vnd.jupyter.widget-view+json": {
       "model_id": "e0c8d92fd89a413a802ed1f0ec3f3125",
       "version_major": 2,
       "version_minor": 0
      },
      "text/plain": [
       "Downloading:   0%|          | 0.00/39.3k [00:00<?, ?B/s]"
      ]
     },
     "metadata": {},
     "output_type": "display_data"
    },
    {
     "data": {
      "application/vnd.jupyter.widget-view+json": {
       "model_id": "cdee79cd12ab400ba09f871457600492",
       "version_major": 2,
       "version_minor": 0
      },
      "text/plain": [
       "Downloading:   0%|          | 0.00/349 [00:00<?, ?B/s]"
      ]
     },
     "metadata": {},
     "output_type": "display_data"
    },
    {
     "data": {
      "application/vnd.jupyter.widget-view+json": {
       "model_id": "97461c8683f54fb79d8ee28ebacb3d50",
       "version_major": 2,
       "version_minor": 0
      },
      "text/plain": [
       "Downloading:   0%|          | 0.00/134M [00:00<?, ?B/s]"
      ]
     },
     "metadata": {},
     "output_type": "display_data"
    },
    {
     "data": {
      "application/vnd.jupyter.widget-view+json": {
       "model_id": "07578d01699341328977ca633def24ac",
       "version_major": 2,
       "version_minor": 0
      },
      "text/plain": [
       "Downloading:   0%|          | 0.00/53.0 [00:00<?, ?B/s]"
      ]
     },
     "metadata": {},
     "output_type": "display_data"
    },
    {
     "data": {
      "application/vnd.jupyter.widget-view+json": {
       "model_id": "fdafe07057274d48847ae390fa8ce26e",
       "version_major": 2,
       "version_minor": 0
      },
      "text/plain": [
       "Downloading:   0%|          | 0.00/112 [00:00<?, ?B/s]"
      ]
     },
     "metadata": {},
     "output_type": "display_data"
    },
    {
     "data": {
      "application/vnd.jupyter.widget-view+json": {
       "model_id": "706a769393fe4099aaffae6b660e4d7e",
       "version_major": 2,
       "version_minor": 0
      },
      "text/plain": [
       "Downloading:   0%|          | 0.00/466k [00:00<?, ?B/s]"
      ]
     },
     "metadata": {},
     "output_type": "display_data"
    },
    {
     "data": {
      "application/vnd.jupyter.widget-view+json": {
       "model_id": "bdc9bf5180854cdb8a52554f5e31c9eb",
       "version_major": 2,
       "version_minor": 0
      },
      "text/plain": [
       "Downloading:   0%|          | 0.00/352 [00:00<?, ?B/s]"
      ]
     },
     "metadata": {},
     "output_type": "display_data"
    },
    {
     "data": {
      "application/vnd.jupyter.widget-view+json": {
       "model_id": "488896e6d9eb469db9ae1cfaa8118fad",
       "version_major": 2,
       "version_minor": 0
      },
      "text/plain": [
       "Downloading:   0%|          | 0.00/13.2k [00:00<?, ?B/s]"
      ]
     },
     "metadata": {},
     "output_type": "display_data"
    },
    {
     "data": {
      "application/vnd.jupyter.widget-view+json": {
       "model_id": "f643cde8d4084010a4222476936fecfe",
       "version_major": 2,
       "version_minor": 0
      },
      "text/plain": [
       "Downloading:   0%|          | 0.00/232k [00:00<?, ?B/s]"
      ]
     },
     "metadata": {},
     "output_type": "display_data"
    },
    {
     "name": "stdout",
     "output_type": "stream",
     "text": [
      "creating representation for docs\n",
      "saving docs_rep in .//DATA/Module_data/transformer.json\n",
      "loading docs_rep\n"
     ]
    }
   ],
   "source": [
    "transformer = Transformer(\"all-MiniLM-L12-v2\")\n",
    "transformer.preprocess(False)"
   ]
  },
  {
   "cell_type": "code",
   "execution_count": 6,
   "metadata": {
    "colab": {
     "base_uri": "https://localhost:8080/"
    },
    "id": "8p53DTI9atXy",
    "outputId": "7d167de7-ac5b-4879-8dfd-508ba2fa328a"
   },
   "outputs": [
    {
     "name": "stdout",
     "output_type": "stream",
     "text": [
      "downloading model all-MiniLM-L12-v2\n",
      "loading docs_rep\n"
     ]
    }
   ],
   "source": [
    "transformer = Transformer(\"all-MiniLM-L12-v2\")\n",
    "transformer.preprocess(True)"
   ]
  },
  {
   "cell_type": "code",
   "execution_count": 8,
   "metadata": {
    "colab": {
     "base_uri": "https://localhost:8080/"
    },
    "id": "H0rDvmudGGge",
    "outputId": "093076b4-ecfc-443c-c3e7-52d6ac64800a"
   },
   "outputs": [
    {
     "name": "stdout",
     "output_type": "stream",
     "text": [
      "('1b181af10a3319b48b99db494aebc1ab5b23f383', 0.43540612644222365)\n",
      "('8b6b50ff16c289db6cbd66b46476679b27a0138f', 0.4427571412531979)\n",
      "('b53162dffd265f3c3181371f2800d09e068ebf90', 0.46761421030745176)\n",
      "('a06be899a51f1994232908977b76c3278ac86e9d', 0.47057690935727836)\n",
      "('a8a0079b3814ec711dde28073e9c55fa765e11ea', 0.48584911136569897)\n",
      "('830af3db2fd9a725919bdd4162a90a59b95534a1', 0.48932039974482144)\n",
      "('662f3a5253d66d58dda4c982cfb63aa103aada9e', 0.49138043288384536)\n",
      "('a008bffc0062bc46225dbb8758ed00c2b41cd042', 0.5022781009245005)\n",
      "('3fdcaf958b7d184c4d84d07a76236b29b1e934fd', 0.5034677048431673)\n",
      "('b550e2cb28e97ebd3b4e149abd7401619b01aaa8', 0.5062498120849198)\n"
     ]
    }
   ],
   "source": [
    "ranking,articles = transformer.query(\"statistical measure that evaluates how relevant a word is to a document in a collection of documents. This is done by multiplying two metrics: how many times a word appears in a document, and the inverse document frequency of the word across a set of documents.\")\n",
    "for a,m in zip(ranking,articles):\n",
    "    print(a)\n",
    "#     print(m[\"title\"])\n",
    "#     print(m[\"abstract\"])"
   ]
  }
 ],
 "metadata": {
  "accelerator": "GPU",
  "colab": {
   "collapsed_sections": [],
   "name": "IRHW3_transformers.ipynb",
   "provenance": []
  },
  "interpreter": {
   "hash": "84beb15e057ca0c3811693b28eab1b970102869956d690ca4f596ce5f226a4ad"
  },
  "kernelspec": {
   "display_name": "Python 3.9.12 ('generalAI')",
   "language": "python",
   "name": "python3"
  },
  "language_info": {
   "codemirror_mode": {
    "name": "ipython",
    "version": 3
   },
   "file_extension": ".py",
   "mimetype": "text/x-python",
   "name": "python",
   "nbconvert_exporter": "python",
   "pygments_lexer": "ipython3",
   "version": "3.9.12"
  }
 },
 "nbformat": 4,
 "nbformat_minor": 1
}
